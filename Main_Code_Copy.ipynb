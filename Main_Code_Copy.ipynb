{
  "nbformat": 4,
  "nbformat_minor": 0,
  "metadata": {
    "kernelspec": {
      "display_name": "Python 3",
      "language": "python",
      "name": "python3"
    },
    "language_info": {
      "codemirror_mode": {
        "name": "ipython",
        "version": 3
      },
      "file_extension": ".py",
      "mimetype": "text/x-python",
      "name": "python",
      "nbconvert_exporter": "python",
      "pygments_lexer": "ipython3",
      "version": "3.9.4"
    },
    "colab": {
      "name": "Main Code - Copy.ipynb",
      "provenance": [],
      "include_colab_link": true
    },
    "accelerator": "GPU"
  },
  "cells": [
    {
      "cell_type": "markdown",
      "metadata": {
        "id": "view-in-github",
        "colab_type": "text"
      },
      "source": [
        "<a href=\"https://colab.research.google.com/github/sarbas33/sarbas/blob/master/Main_Code_Copy.ipynb\" target=\"_parent\"><img src=\"https://colab.research.google.com/assets/colab-badge.svg\" alt=\"Open In Colab\"/></a>"
      ]
    },
    {
      "cell_type": "code",
      "metadata": {
        "id": "YjuG1sweD8Qt"
      },
      "source": [
        "import pandas as pd\n",
        "import numpy as np\n"
      ],
      "execution_count": 1,
      "outputs": []
    },
    {
      "cell_type": "code",
      "metadata": {
        "colab": {
          "base_uri": "https://localhost:8080/"
        },
        "id": "0HjC3oe9EOD_",
        "outputId": "fe36a4a8-e874-4505-9dd3-d0c443a0bf6c"
      },
      "source": [
        "from google.colab import drive\n",
        "drive.mount('/content/drive')"
      ],
      "execution_count": 2,
      "outputs": [
        {
          "output_type": "stream",
          "name": "stdout",
          "text": [
            "Mounted at /content/drive\n"
          ]
        }
      ]
    },
    {
      "cell_type": "code",
      "metadata": {
        "id": "AH0nWgkfD8Qx"
      },
      "source": [
        "raw_df=pd.read_csv(\"/content/drive/MyDrive/Project Final Year /datasets/dataco/DataCoSupplyChainDataset.csv\", encoding=\"ISO-8859-1\")"
      ],
      "execution_count": 3,
      "outputs": []
    },
    {
      "cell_type": "code",
      "metadata": {
        "colab": {
          "base_uri": "https://localhost:8080/",
          "height": 487
        },
        "id": "6nub0ZaGD8Qy",
        "outputId": "195118de-4843-4586-99db-1f5905a3c9d1"
      },
      "source": [
        "raw_df.head()"
      ],
      "execution_count": 4,
      "outputs": [
        {
          "output_type": "execute_result",
          "data": {
            "text/html": [
              "<div>\n",
              "<style scoped>\n",
              "    .dataframe tbody tr th:only-of-type {\n",
              "        vertical-align: middle;\n",
              "    }\n",
              "\n",
              "    .dataframe tbody tr th {\n",
              "        vertical-align: top;\n",
              "    }\n",
              "\n",
              "    .dataframe thead th {\n",
              "        text-align: right;\n",
              "    }\n",
              "</style>\n",
              "<table border=\"1\" class=\"dataframe\">\n",
              "  <thead>\n",
              "    <tr style=\"text-align: right;\">\n",
              "      <th></th>\n",
              "      <th>Type</th>\n",
              "      <th>Days for shipping (real)</th>\n",
              "      <th>Days for shipment (scheduled)</th>\n",
              "      <th>Benefit per order</th>\n",
              "      <th>Sales per customer</th>\n",
              "      <th>Delivery Status</th>\n",
              "      <th>Late_delivery_risk</th>\n",
              "      <th>Category Id</th>\n",
              "      <th>Category Name</th>\n",
              "      <th>Customer City</th>\n",
              "      <th>Customer Country</th>\n",
              "      <th>Customer Email</th>\n",
              "      <th>Customer Fname</th>\n",
              "      <th>Customer Id</th>\n",
              "      <th>Customer Lname</th>\n",
              "      <th>Customer Password</th>\n",
              "      <th>Customer Segment</th>\n",
              "      <th>Customer State</th>\n",
              "      <th>Customer Street</th>\n",
              "      <th>Customer Zipcode</th>\n",
              "      <th>Department Id</th>\n",
              "      <th>Department Name</th>\n",
              "      <th>Latitude</th>\n",
              "      <th>Longitude</th>\n",
              "      <th>Market</th>\n",
              "      <th>Order City</th>\n",
              "      <th>Order Country</th>\n",
              "      <th>Order Customer Id</th>\n",
              "      <th>order date (DateOrders)</th>\n",
              "      <th>Order Id</th>\n",
              "      <th>Order Item Cardprod Id</th>\n",
              "      <th>Order Item Discount</th>\n",
              "      <th>Order Item Discount Rate</th>\n",
              "      <th>Order Item Id</th>\n",
              "      <th>Order Item Product Price</th>\n",
              "      <th>Order Item Profit Ratio</th>\n",
              "      <th>Order Item Quantity</th>\n",
              "      <th>Sales</th>\n",
              "      <th>Order Item Total</th>\n",
              "      <th>Order Profit Per Order</th>\n",
              "      <th>Order Region</th>\n",
              "      <th>Order State</th>\n",
              "      <th>Order Status</th>\n",
              "      <th>Order Zipcode</th>\n",
              "      <th>Product Card Id</th>\n",
              "      <th>Product Category Id</th>\n",
              "      <th>Product Description</th>\n",
              "      <th>Product Image</th>\n",
              "      <th>Product Name</th>\n",
              "      <th>Product Price</th>\n",
              "      <th>Product Status</th>\n",
              "      <th>shipping date (DateOrders)</th>\n",
              "      <th>Shipping Mode</th>\n",
              "    </tr>\n",
              "  </thead>\n",
              "  <tbody>\n",
              "    <tr>\n",
              "      <th>0</th>\n",
              "      <td>DEBIT</td>\n",
              "      <td>3</td>\n",
              "      <td>4</td>\n",
              "      <td>91.250000</td>\n",
              "      <td>314.640015</td>\n",
              "      <td>Advance shipping</td>\n",
              "      <td>0</td>\n",
              "      <td>73</td>\n",
              "      <td>Sporting Goods</td>\n",
              "      <td>Caguas</td>\n",
              "      <td>Puerto Rico</td>\n",
              "      <td>XXXXXXXXX</td>\n",
              "      <td>Cally</td>\n",
              "      <td>20755</td>\n",
              "      <td>Holloway</td>\n",
              "      <td>XXXXXXXXX</td>\n",
              "      <td>Consumer</td>\n",
              "      <td>PR</td>\n",
              "      <td>5365 Noble Nectar Island</td>\n",
              "      <td>725.0</td>\n",
              "      <td>2</td>\n",
              "      <td>Fitness</td>\n",
              "      <td>18.251453</td>\n",
              "      <td>-66.037056</td>\n",
              "      <td>Pacific Asia</td>\n",
              "      <td>Bekasi</td>\n",
              "      <td>Indonesia</td>\n",
              "      <td>20755</td>\n",
              "      <td>1/31/2018 22:56</td>\n",
              "      <td>77202</td>\n",
              "      <td>1360</td>\n",
              "      <td>13.110000</td>\n",
              "      <td>0.04</td>\n",
              "      <td>180517</td>\n",
              "      <td>327.75</td>\n",
              "      <td>0.29</td>\n",
              "      <td>1</td>\n",
              "      <td>327.75</td>\n",
              "      <td>314.640015</td>\n",
              "      <td>91.250000</td>\n",
              "      <td>Southeast Asia</td>\n",
              "      <td>Java Occidental</td>\n",
              "      <td>COMPLETE</td>\n",
              "      <td>NaN</td>\n",
              "      <td>1360</td>\n",
              "      <td>73</td>\n",
              "      <td>NaN</td>\n",
              "      <td>http://images.acmesports.sports/Smart+watch</td>\n",
              "      <td>Smart watch</td>\n",
              "      <td>327.75</td>\n",
              "      <td>0</td>\n",
              "      <td>2/3/2018 22:56</td>\n",
              "      <td>Standard Class</td>\n",
              "    </tr>\n",
              "    <tr>\n",
              "      <th>1</th>\n",
              "      <td>TRANSFER</td>\n",
              "      <td>5</td>\n",
              "      <td>4</td>\n",
              "      <td>-249.089996</td>\n",
              "      <td>311.359985</td>\n",
              "      <td>Late delivery</td>\n",
              "      <td>1</td>\n",
              "      <td>73</td>\n",
              "      <td>Sporting Goods</td>\n",
              "      <td>Caguas</td>\n",
              "      <td>Puerto Rico</td>\n",
              "      <td>XXXXXXXXX</td>\n",
              "      <td>Irene</td>\n",
              "      <td>19492</td>\n",
              "      <td>Luna</td>\n",
              "      <td>XXXXXXXXX</td>\n",
              "      <td>Consumer</td>\n",
              "      <td>PR</td>\n",
              "      <td>2679 Rustic Loop</td>\n",
              "      <td>725.0</td>\n",
              "      <td>2</td>\n",
              "      <td>Fitness</td>\n",
              "      <td>18.279451</td>\n",
              "      <td>-66.037064</td>\n",
              "      <td>Pacific Asia</td>\n",
              "      <td>Bikaner</td>\n",
              "      <td>India</td>\n",
              "      <td>19492</td>\n",
              "      <td>1/13/2018 12:27</td>\n",
              "      <td>75939</td>\n",
              "      <td>1360</td>\n",
              "      <td>16.389999</td>\n",
              "      <td>0.05</td>\n",
              "      <td>179254</td>\n",
              "      <td>327.75</td>\n",
              "      <td>-0.80</td>\n",
              "      <td>1</td>\n",
              "      <td>327.75</td>\n",
              "      <td>311.359985</td>\n",
              "      <td>-249.089996</td>\n",
              "      <td>South Asia</td>\n",
              "      <td>Rajastán</td>\n",
              "      <td>PENDING</td>\n",
              "      <td>NaN</td>\n",
              "      <td>1360</td>\n",
              "      <td>73</td>\n",
              "      <td>NaN</td>\n",
              "      <td>http://images.acmesports.sports/Smart+watch</td>\n",
              "      <td>Smart watch</td>\n",
              "      <td>327.75</td>\n",
              "      <td>0</td>\n",
              "      <td>1/18/2018 12:27</td>\n",
              "      <td>Standard Class</td>\n",
              "    </tr>\n",
              "    <tr>\n",
              "      <th>2</th>\n",
              "      <td>CASH</td>\n",
              "      <td>4</td>\n",
              "      <td>4</td>\n",
              "      <td>-247.779999</td>\n",
              "      <td>309.720001</td>\n",
              "      <td>Shipping on time</td>\n",
              "      <td>0</td>\n",
              "      <td>73</td>\n",
              "      <td>Sporting Goods</td>\n",
              "      <td>San Jose</td>\n",
              "      <td>EE. UU.</td>\n",
              "      <td>XXXXXXXXX</td>\n",
              "      <td>Gillian</td>\n",
              "      <td>19491</td>\n",
              "      <td>Maldonado</td>\n",
              "      <td>XXXXXXXXX</td>\n",
              "      <td>Consumer</td>\n",
              "      <td>CA</td>\n",
              "      <td>8510 Round Bear Gate</td>\n",
              "      <td>95125.0</td>\n",
              "      <td>2</td>\n",
              "      <td>Fitness</td>\n",
              "      <td>37.292233</td>\n",
              "      <td>-121.881279</td>\n",
              "      <td>Pacific Asia</td>\n",
              "      <td>Bikaner</td>\n",
              "      <td>India</td>\n",
              "      <td>19491</td>\n",
              "      <td>1/13/2018 12:06</td>\n",
              "      <td>75938</td>\n",
              "      <td>1360</td>\n",
              "      <td>18.030001</td>\n",
              "      <td>0.06</td>\n",
              "      <td>179253</td>\n",
              "      <td>327.75</td>\n",
              "      <td>-0.80</td>\n",
              "      <td>1</td>\n",
              "      <td>327.75</td>\n",
              "      <td>309.720001</td>\n",
              "      <td>-247.779999</td>\n",
              "      <td>South Asia</td>\n",
              "      <td>Rajastán</td>\n",
              "      <td>CLOSED</td>\n",
              "      <td>NaN</td>\n",
              "      <td>1360</td>\n",
              "      <td>73</td>\n",
              "      <td>NaN</td>\n",
              "      <td>http://images.acmesports.sports/Smart+watch</td>\n",
              "      <td>Smart watch</td>\n",
              "      <td>327.75</td>\n",
              "      <td>0</td>\n",
              "      <td>1/17/2018 12:06</td>\n",
              "      <td>Standard Class</td>\n",
              "    </tr>\n",
              "    <tr>\n",
              "      <th>3</th>\n",
              "      <td>DEBIT</td>\n",
              "      <td>3</td>\n",
              "      <td>4</td>\n",
              "      <td>22.860001</td>\n",
              "      <td>304.809998</td>\n",
              "      <td>Advance shipping</td>\n",
              "      <td>0</td>\n",
              "      <td>73</td>\n",
              "      <td>Sporting Goods</td>\n",
              "      <td>Los Angeles</td>\n",
              "      <td>EE. UU.</td>\n",
              "      <td>XXXXXXXXX</td>\n",
              "      <td>Tana</td>\n",
              "      <td>19490</td>\n",
              "      <td>Tate</td>\n",
              "      <td>XXXXXXXXX</td>\n",
              "      <td>Home Office</td>\n",
              "      <td>CA</td>\n",
              "      <td>3200 Amber Bend</td>\n",
              "      <td>90027.0</td>\n",
              "      <td>2</td>\n",
              "      <td>Fitness</td>\n",
              "      <td>34.125946</td>\n",
              "      <td>-118.291016</td>\n",
              "      <td>Pacific Asia</td>\n",
              "      <td>Townsville</td>\n",
              "      <td>Australia</td>\n",
              "      <td>19490</td>\n",
              "      <td>1/13/2018 11:45</td>\n",
              "      <td>75937</td>\n",
              "      <td>1360</td>\n",
              "      <td>22.940001</td>\n",
              "      <td>0.07</td>\n",
              "      <td>179252</td>\n",
              "      <td>327.75</td>\n",
              "      <td>0.08</td>\n",
              "      <td>1</td>\n",
              "      <td>327.75</td>\n",
              "      <td>304.809998</td>\n",
              "      <td>22.860001</td>\n",
              "      <td>Oceania</td>\n",
              "      <td>Queensland</td>\n",
              "      <td>COMPLETE</td>\n",
              "      <td>NaN</td>\n",
              "      <td>1360</td>\n",
              "      <td>73</td>\n",
              "      <td>NaN</td>\n",
              "      <td>http://images.acmesports.sports/Smart+watch</td>\n",
              "      <td>Smart watch</td>\n",
              "      <td>327.75</td>\n",
              "      <td>0</td>\n",
              "      <td>1/16/2018 11:45</td>\n",
              "      <td>Standard Class</td>\n",
              "    </tr>\n",
              "    <tr>\n",
              "      <th>4</th>\n",
              "      <td>PAYMENT</td>\n",
              "      <td>2</td>\n",
              "      <td>4</td>\n",
              "      <td>134.210007</td>\n",
              "      <td>298.250000</td>\n",
              "      <td>Advance shipping</td>\n",
              "      <td>0</td>\n",
              "      <td>73</td>\n",
              "      <td>Sporting Goods</td>\n",
              "      <td>Caguas</td>\n",
              "      <td>Puerto Rico</td>\n",
              "      <td>XXXXXXXXX</td>\n",
              "      <td>Orli</td>\n",
              "      <td>19489</td>\n",
              "      <td>Hendricks</td>\n",
              "      <td>XXXXXXXXX</td>\n",
              "      <td>Corporate</td>\n",
              "      <td>PR</td>\n",
              "      <td>8671 Iron Anchor Corners</td>\n",
              "      <td>725.0</td>\n",
              "      <td>2</td>\n",
              "      <td>Fitness</td>\n",
              "      <td>18.253769</td>\n",
              "      <td>-66.037048</td>\n",
              "      <td>Pacific Asia</td>\n",
              "      <td>Townsville</td>\n",
              "      <td>Australia</td>\n",
              "      <td>19489</td>\n",
              "      <td>1/13/2018 11:24</td>\n",
              "      <td>75936</td>\n",
              "      <td>1360</td>\n",
              "      <td>29.500000</td>\n",
              "      <td>0.09</td>\n",
              "      <td>179251</td>\n",
              "      <td>327.75</td>\n",
              "      <td>0.45</td>\n",
              "      <td>1</td>\n",
              "      <td>327.75</td>\n",
              "      <td>298.250000</td>\n",
              "      <td>134.210007</td>\n",
              "      <td>Oceania</td>\n",
              "      <td>Queensland</td>\n",
              "      <td>PENDING_PAYMENT</td>\n",
              "      <td>NaN</td>\n",
              "      <td>1360</td>\n",
              "      <td>73</td>\n",
              "      <td>NaN</td>\n",
              "      <td>http://images.acmesports.sports/Smart+watch</td>\n",
              "      <td>Smart watch</td>\n",
              "      <td>327.75</td>\n",
              "      <td>0</td>\n",
              "      <td>1/15/2018 11:24</td>\n",
              "      <td>Standard Class</td>\n",
              "    </tr>\n",
              "  </tbody>\n",
              "</table>\n",
              "</div>"
            ],
            "text/plain": [
              "       Type  ...   Shipping Mode\n",
              "0     DEBIT  ...  Standard Class\n",
              "1  TRANSFER  ...  Standard Class\n",
              "2      CASH  ...  Standard Class\n",
              "3     DEBIT  ...  Standard Class\n",
              "4   PAYMENT  ...  Standard Class\n",
              "\n",
              "[5 rows x 53 columns]"
            ]
          },
          "metadata": {},
          "execution_count": 4
        }
      ]
    },
    {
      "cell_type": "code",
      "metadata": {
        "colab": {
          "base_uri": "https://localhost:8080/"
        },
        "id": "qi7Y1hjcD8Qz",
        "outputId": "6e968c36-868a-4fb8-cd3d-fd2f40b3eb90"
      },
      "source": [
        "raw_df.info()"
      ],
      "execution_count": 5,
      "outputs": [
        {
          "output_type": "stream",
          "name": "stdout",
          "text": [
            "<class 'pandas.core.frame.DataFrame'>\n",
            "RangeIndex: 180519 entries, 0 to 180518\n",
            "Data columns (total 53 columns):\n",
            " #   Column                         Non-Null Count   Dtype  \n",
            "---  ------                         --------------   -----  \n",
            " 0   Type                           180519 non-null  object \n",
            " 1   Days for shipping (real)       180519 non-null  int64  \n",
            " 2   Days for shipment (scheduled)  180519 non-null  int64  \n",
            " 3   Benefit per order              180519 non-null  float64\n",
            " 4   Sales per customer             180519 non-null  float64\n",
            " 5   Delivery Status                180519 non-null  object \n",
            " 6   Late_delivery_risk             180519 non-null  int64  \n",
            " 7   Category Id                    180519 non-null  int64  \n",
            " 8   Category Name                  180519 non-null  object \n",
            " 9   Customer City                  180519 non-null  object \n",
            " 10  Customer Country               180519 non-null  object \n",
            " 11  Customer Email                 180519 non-null  object \n",
            " 12  Customer Fname                 180519 non-null  object \n",
            " 13  Customer Id                    180519 non-null  int64  \n",
            " 14  Customer Lname                 180511 non-null  object \n",
            " 15  Customer Password              180519 non-null  object \n",
            " 16  Customer Segment               180519 non-null  object \n",
            " 17  Customer State                 180519 non-null  object \n",
            " 18  Customer Street                180519 non-null  object \n",
            " 19  Customer Zipcode               180516 non-null  float64\n",
            " 20  Department Id                  180519 non-null  int64  \n",
            " 21  Department Name                180519 non-null  object \n",
            " 22  Latitude                       180519 non-null  float64\n",
            " 23  Longitude                      180519 non-null  float64\n",
            " 24  Market                         180519 non-null  object \n",
            " 25  Order City                     180519 non-null  object \n",
            " 26  Order Country                  180519 non-null  object \n",
            " 27  Order Customer Id              180519 non-null  int64  \n",
            " 28  order date (DateOrders)        180519 non-null  object \n",
            " 29  Order Id                       180519 non-null  int64  \n",
            " 30  Order Item Cardprod Id         180519 non-null  int64  \n",
            " 31  Order Item Discount            180519 non-null  float64\n",
            " 32  Order Item Discount Rate       180519 non-null  float64\n",
            " 33  Order Item Id                  180519 non-null  int64  \n",
            " 34  Order Item Product Price       180519 non-null  float64\n",
            " 35  Order Item Profit Ratio        180519 non-null  float64\n",
            " 36  Order Item Quantity            180519 non-null  int64  \n",
            " 37  Sales                          180519 non-null  float64\n",
            " 38  Order Item Total               180519 non-null  float64\n",
            " 39  Order Profit Per Order         180519 non-null  float64\n",
            " 40  Order Region                   180519 non-null  object \n",
            " 41  Order State                    180519 non-null  object \n",
            " 42  Order Status                   180519 non-null  object \n",
            " 43  Order Zipcode                  24840 non-null   float64\n",
            " 44  Product Card Id                180519 non-null  int64  \n",
            " 45  Product Category Id            180519 non-null  int64  \n",
            " 46  Product Description            0 non-null       float64\n",
            " 47  Product Image                  180519 non-null  object \n",
            " 48  Product Name                   180519 non-null  object \n",
            " 49  Product Price                  180519 non-null  float64\n",
            " 50  Product Status                 180519 non-null  int64  \n",
            " 51  shipping date (DateOrders)     180519 non-null  object \n",
            " 52  Shipping Mode                  180519 non-null  object \n",
            "dtypes: float64(15), int64(14), object(24)\n",
            "memory usage: 73.0+ MB\n"
          ]
        }
      ]
    },
    {
      "cell_type": "code",
      "metadata": {
        "colab": {
          "base_uri": "https://localhost:8080/"
        },
        "id": "kxWtYC_AD8Q0",
        "outputId": "80d0f312-0a18-4bc1-faf0-9e115d2ab630"
      },
      "source": [
        "print('List of all Columns in the Dataset: ')\n",
        "raw_df.columns\n"
      ],
      "execution_count": 6,
      "outputs": [
        {
          "output_type": "stream",
          "name": "stdout",
          "text": [
            "List of all Columns in the Dataset: \n"
          ]
        },
        {
          "output_type": "execute_result",
          "data": {
            "text/plain": [
              "Index(['Type', 'Days for shipping (real)', 'Days for shipment (scheduled)',\n",
              "       'Benefit per order', 'Sales per customer', 'Delivery Status',\n",
              "       'Late_delivery_risk', 'Category Id', 'Category Name', 'Customer City',\n",
              "       'Customer Country', 'Customer Email', 'Customer Fname', 'Customer Id',\n",
              "       'Customer Lname', 'Customer Password', 'Customer Segment',\n",
              "       'Customer State', 'Customer Street', 'Customer Zipcode',\n",
              "       'Department Id', 'Department Name', 'Latitude', 'Longitude', 'Market',\n",
              "       'Order City', 'Order Country', 'Order Customer Id',\n",
              "       'order date (DateOrders)', 'Order Id', 'Order Item Cardprod Id',\n",
              "       'Order Item Discount', 'Order Item Discount Rate', 'Order Item Id',\n",
              "       'Order Item Product Price', 'Order Item Profit Ratio',\n",
              "       'Order Item Quantity', 'Sales', 'Order Item Total',\n",
              "       'Order Profit Per Order', 'Order Region', 'Order State', 'Order Status',\n",
              "       'Order Zipcode', 'Product Card Id', 'Product Category Id',\n",
              "       'Product Description', 'Product Image', 'Product Name', 'Product Price',\n",
              "       'Product Status', 'shipping date (DateOrders)', 'Shipping Mode'],\n",
              "      dtype='object')"
            ]
          },
          "metadata": {},
          "execution_count": 6
        }
      ]
    },
    {
      "cell_type": "code",
      "metadata": {
        "colab": {
          "base_uri": "https://localhost:8080/"
        },
        "id": "NTMM1TDjD8Q0",
        "outputId": "8d49bcc8-0351-4787-95b5-526b4814caf8"
      },
      "source": [
        "raw_df['Customer City'].value_counts()"
      ],
      "execution_count": 7,
      "outputs": [
        {
          "output_type": "execute_result",
          "data": {
            "text/plain": [
              "Caguas         66770\n",
              "Chicago         3885\n",
              "Los Angeles     3417\n",
              "Brooklyn        3412\n",
              "New York        1816\n",
              "               ...  \n",
              "Bartlett          25\n",
              "Ponce             22\n",
              "Malden            22\n",
              "Freehold          13\n",
              "CA                 3\n",
              "Name: Customer City, Length: 563, dtype: int64"
            ]
          },
          "metadata": {},
          "execution_count": 7
        }
      ]
    },
    {
      "cell_type": "code",
      "metadata": {
        "colab": {
          "base_uri": "https://localhost:8080/"
        },
        "id": "g-AdPxmgD8Q1",
        "outputId": "bcd90f07-57b6-4677-f0fd-7f94d92f4e9d"
      },
      "source": [
        "raw_df['Customer Country'].value_counts()"
      ],
      "execution_count": 8,
      "outputs": [
        {
          "output_type": "execute_result",
          "data": {
            "text/plain": [
              "EE. UU.        111146\n",
              "Puerto Rico     69373\n",
              "Name: Customer Country, dtype: int64"
            ]
          },
          "metadata": {},
          "execution_count": 8
        }
      ]
    },
    {
      "cell_type": "code",
      "metadata": {
        "colab": {
          "base_uri": "https://localhost:8080/"
        },
        "id": "f7N_IKfED8Q1",
        "outputId": "67be6ec9-81a5-41c5-f1d8-8ddf9bf16008"
      },
      "source": [
        "raw_df['Late_delivery_risk'].value_counts()\n",
        "input_cols = ['Late_delivery_risk',\"Type\",'Days for shipment (scheduled)','Benefit per order','Sales per customer','Category Id','Customer City','Customer State','Customer Street','Customer Segment','Department Id','Latitude','Longitude','Market', 'Order City','Order State','Order Item Cardprod Id','Order Item Discount','Order Item Discount Rate','Order Item Product Price','Order Item Profit Ratio','Order Item Quantity','Sales','Order Item Total','Order Profit Per Order','Order Region','Order Status','Product Price','Shipping Mode']\n",
        "raw_df['Late_delivery_risk'].value_counts()"
      ],
      "execution_count": 5,
      "outputs": [
        {
          "output_type": "execute_result",
          "data": {
            "text/plain": [
              "1    98977\n",
              "0    81542\n",
              "Name: Late_delivery_risk, dtype: int64"
            ]
          },
          "metadata": {},
          "execution_count": 5
        }
      ]
    },
    {
      "cell_type": "code",
      "metadata": {
        "colab": {
          "base_uri": "https://localhost:8080/"
        },
        "id": "zg_McTdID8Q2",
        "outputId": "1b4a703a-623a-48cc-a766-dffc690c27fb"
      },
      "source": [
        "df1=raw_df[input_cols].copy()\n",
        "print('Columns Remaining after Initital Screening:')\n",
        "df1.columns"
      ],
      "execution_count": 6,
      "outputs": [
        {
          "output_type": "stream",
          "name": "stdout",
          "text": [
            "Columns Remaining after Initital Screening:\n"
          ]
        },
        {
          "output_type": "execute_result",
          "data": {
            "text/plain": [
              "Index(['Late_delivery_risk', 'Type', 'Days for shipment (scheduled)',\n",
              "       'Benefit per order', 'Sales per customer', 'Category Id',\n",
              "       'Customer City', 'Customer State', 'Customer Street',\n",
              "       'Customer Segment', 'Department Id', 'Latitude', 'Longitude', 'Market',\n",
              "       'Order City', 'Order State', 'Order Item Cardprod Id',\n",
              "       'Order Item Discount', 'Order Item Discount Rate',\n",
              "       'Order Item Product Price', 'Order Item Profit Ratio',\n",
              "       'Order Item Quantity', 'Sales', 'Order Item Total',\n",
              "       'Order Profit Per Order', 'Order Region', 'Order Status',\n",
              "       'Product Price', 'Shipping Mode'],\n",
              "      dtype='object')"
            ]
          },
          "metadata": {},
          "execution_count": 6
        }
      ]
    },
    {
      "cell_type": "code",
      "metadata": {
        "id": "94hPbktrD8Q2"
      },
      "source": [
        "numeric_cols =df1.select_dtypes(include=np.number).columns.tolist()\n",
        "categorical_cols = df1.select_dtypes('object').columns.tolist()"
      ],
      "execution_count": 7,
      "outputs": []
    },
    {
      "cell_type": "code",
      "metadata": {
        "colab": {
          "base_uri": "https://localhost:8080/"
        },
        "id": "ngYPUCxgD8Q3",
        "outputId": "bee91279-b2df-490d-c002-f542a9902f93"
      },
      "source": [
        "print(\"Number of null values in each numerical columns:\")\n",
        "df1[numeric_cols].isna().sum()"
      ],
      "execution_count": 8,
      "outputs": [
        {
          "output_type": "stream",
          "name": "stdout",
          "text": [
            "Number of null values in each numerical columns:\n"
          ]
        },
        {
          "output_type": "execute_result",
          "data": {
            "text/plain": [
              "Late_delivery_risk               0\n",
              "Days for shipment (scheduled)    0\n",
              "Benefit per order                0\n",
              "Sales per customer               0\n",
              "Category Id                      0\n",
              "Department Id                    0\n",
              "Latitude                         0\n",
              "Longitude                        0\n",
              "Order Item Cardprod Id           0\n",
              "Order Item Discount              0\n",
              "Order Item Discount Rate         0\n",
              "Order Item Product Price         0\n",
              "Order Item Profit Ratio          0\n",
              "Order Item Quantity              0\n",
              "Sales                            0\n",
              "Order Item Total                 0\n",
              "Order Profit Per Order           0\n",
              "Product Price                    0\n",
              "dtype: int64"
            ]
          },
          "metadata": {},
          "execution_count": 8
        }
      ]
    },
    {
      "cell_type": "code",
      "metadata": {
        "colab": {
          "base_uri": "https://localhost:8080/"
        },
        "id": "w8bu8rxqD8Q3",
        "outputId": "49ee6ece-e67e-4778-cdf6-2c8bc2c9ce94"
      },
      "source": [
        "print(\"Number of null values in each categorical columns:\")\n",
        "df1[categorical_cols].isna().sum()"
      ],
      "execution_count": 9,
      "outputs": [
        {
          "output_type": "stream",
          "name": "stdout",
          "text": [
            "Number of null values in each categorical columns:\n"
          ]
        },
        {
          "output_type": "execute_result",
          "data": {
            "text/plain": [
              "Type                0\n",
              "Customer City       0\n",
              "Customer State      0\n",
              "Customer Street     0\n",
              "Customer Segment    0\n",
              "Market              0\n",
              "Order City          0\n",
              "Order State         0\n",
              "Order Region        0\n",
              "Order Status        0\n",
              "Shipping Mode       0\n",
              "dtype: int64"
            ]
          },
          "metadata": {},
          "execution_count": 9
        }
      ]
    },
    {
      "cell_type": "code",
      "metadata": {
        "colab": {
          "base_uri": "https://localhost:8080/"
        },
        "id": "o-L1WRmhD8Q4",
        "outputId": "ac9f806e-fce5-4f0f-dbdb-a99b122f62a0"
      },
      "source": [
        "df1[categorical_cols].nunique()"
      ],
      "execution_count": 10,
      "outputs": [
        {
          "output_type": "execute_result",
          "data": {
            "text/plain": [
              "Type                   4\n",
              "Customer City        563\n",
              "Customer State        46\n",
              "Customer Street     7458\n",
              "Customer Segment       3\n",
              "Market                 5\n",
              "Order City          3597\n",
              "Order State         1089\n",
              "Order Region          23\n",
              "Order Status           9\n",
              "Shipping Mode          4\n",
              "dtype: int64"
            ]
          },
          "metadata": {},
          "execution_count": 10
        }
      ]
    },
    {
      "cell_type": "code",
      "metadata": {
        "id": "efnaEK1jD8Q4"
      },
      "source": [
        "use_sample = True\n",
        "sample_fraction = 0.1\n",
        "if use_sample:\n",
        "    df1 = df1.sample(frac=sample_fraction).copy()"
      ],
      "execution_count": 11,
      "outputs": []
    },
    {
      "cell_type": "code",
      "metadata": {
        "id": "DF_sQlKED8Q4"
      },
      "source": [
        "target_col = 'Late_delivery_risk'"
      ],
      "execution_count": 12,
      "outputs": []
    },
    {
      "cell_type": "code",
      "metadata": {
        "colab": {
          "base_uri": "https://localhost:8080/"
        },
        "id": "mnrMMfDVD8Q4",
        "outputId": "93f6b4d2-0e13-43f2-aad3-8d50c3852466"
      },
      "source": [
        "from sklearn.preprocessing import MinMaxScaler\n",
        "scaler = MinMaxScaler()\n",
        "scaler.fit(df1[numeric_cols])"
      ],
      "execution_count": 13,
      "outputs": [
        {
          "output_type": "execute_result",
          "data": {
            "text/plain": [
              "MinMaxScaler()"
            ]
          },
          "metadata": {},
          "execution_count": 13
        }
      ]
    },
    {
      "cell_type": "code",
      "metadata": {
        "id": "s4FA2sx6D8Q5"
      },
      "source": [
        "df1[numeric_cols]=scaler.transform(df1[numeric_cols])"
      ],
      "execution_count": 14,
      "outputs": []
    },
    {
      "cell_type": "code",
      "metadata": {
        "id": "Mtv-u0t5D8Q5"
      },
      "source": [
        "from sklearn.preprocessing import OneHotEncoder\n",
        "encoder = OneHotEncoder(sparse=False, handle_unknown='ignore')\n",
        "\n",
        "encoded_df=pd.DataFrame(encoder.fit_transform(df1[categorical_cols]))\n",
        "\n",
        "\n",
        "\n",
        "\n"
      ],
      "execution_count": 15,
      "outputs": []
    },
    {
      "cell_type": "code",
      "metadata": {
        "id": "r_pTIBDGD8Q5"
      },
      "source": [
        "df1=df1.drop(columns=categorical_cols)"
      ],
      "execution_count": 16,
      "outputs": []
    },
    {
      "cell_type": "code",
      "metadata": {
        "colab": {
          "base_uri": "https://localhost:8080/",
          "height": 278
        },
        "id": "C2udkOEgD8Q5",
        "outputId": "c0bf5c51-aa5e-4b90-a49a-cecab019f040"
      },
      "source": [
        "df1.head()"
      ],
      "execution_count": 17,
      "outputs": [
        {
          "output_type": "execute_result",
          "data": {
            "text/html": [
              "<div>\n",
              "<style scoped>\n",
              "    .dataframe tbody tr th:only-of-type {\n",
              "        vertical-align: middle;\n",
              "    }\n",
              "\n",
              "    .dataframe tbody tr th {\n",
              "        vertical-align: top;\n",
              "    }\n",
              "\n",
              "    .dataframe thead th {\n",
              "        text-align: right;\n",
              "    }\n",
              "</style>\n",
              "<table border=\"1\" class=\"dataframe\">\n",
              "  <thead>\n",
              "    <tr style=\"text-align: right;\">\n",
              "      <th></th>\n",
              "      <th>Late_delivery_risk</th>\n",
              "      <th>Days for shipment (scheduled)</th>\n",
              "      <th>Benefit per order</th>\n",
              "      <th>Sales per customer</th>\n",
              "      <th>Category Id</th>\n",
              "      <th>Department Id</th>\n",
              "      <th>Latitude</th>\n",
              "      <th>Longitude</th>\n",
              "      <th>Order Item Cardprod Id</th>\n",
              "      <th>Order Item Discount</th>\n",
              "      <th>Order Item Discount Rate</th>\n",
              "      <th>Order Item Product Price</th>\n",
              "      <th>Order Item Profit Ratio</th>\n",
              "      <th>Order Item Quantity</th>\n",
              "      <th>Sales</th>\n",
              "      <th>Order Item Total</th>\n",
              "      <th>Order Profit Per Order</th>\n",
              "      <th>Product Price</th>\n",
              "    </tr>\n",
              "  </thead>\n",
              "  <tbody>\n",
              "    <tr>\n",
              "      <th>85291</th>\n",
              "      <td>0.0</td>\n",
              "      <td>1.00</td>\n",
              "      <td>0.772804</td>\n",
              "      <td>0.060408</td>\n",
              "      <td>0.216216</td>\n",
              "      <td>0.2</td>\n",
              "      <td>0.822071</td>\n",
              "      <td>0.166666</td>\n",
              "      <td>0.285714</td>\n",
              "      <td>0.017333</td>\n",
              "      <td>0.20</td>\n",
              "      <td>0.060302</td>\n",
              "      <td>0.870769</td>\n",
              "      <td>0.00</td>\n",
              "      <td>0.060302</td>\n",
              "      <td>0.060408</td>\n",
              "      <td>0.772804</td>\n",
              "      <td>0.060302</td>\n",
              "    </tr>\n",
              "    <tr>\n",
              "      <th>65167</th>\n",
              "      <td>1.0</td>\n",
              "      <td>0.50</td>\n",
              "      <td>0.771180</td>\n",
              "      <td>0.113494</td>\n",
              "      <td>0.554054</td>\n",
              "      <td>0.5</td>\n",
              "      <td>0.905457</td>\n",
              "      <td>0.348466</td>\n",
              "      <td>0.697917</td>\n",
              "      <td>0.200000</td>\n",
              "      <td>1.00</td>\n",
              "      <td>0.145724</td>\n",
              "      <td>0.852308</td>\n",
              "      <td>0.00</td>\n",
              "      <td>0.145724</td>\n",
              "      <td>0.113494</td>\n",
              "      <td>0.771180</td>\n",
              "      <td>0.145724</td>\n",
              "    </tr>\n",
              "    <tr>\n",
              "      <th>51924</th>\n",
              "      <td>0.0</td>\n",
              "      <td>1.00</td>\n",
              "      <td>0.775848</td>\n",
              "      <td>0.045868</td>\n",
              "      <td>0.378378</td>\n",
              "      <td>0.4</td>\n",
              "      <td>0.631427</td>\n",
              "      <td>0.381123</td>\n",
              "      <td>0.481399</td>\n",
              "      <td>0.038133</td>\n",
              "      <td>0.52</td>\n",
              "      <td>0.050251</td>\n",
              "      <td>0.904615</td>\n",
              "      <td>0.00</td>\n",
              "      <td>0.050251</td>\n",
              "      <td>0.045868</td>\n",
              "      <td>0.775848</td>\n",
              "      <td>0.050251</td>\n",
              "    </tr>\n",
              "    <tr>\n",
              "      <th>58993</th>\n",
              "      <td>1.0</td>\n",
              "      <td>0.25</td>\n",
              "      <td>0.774780</td>\n",
              "      <td>0.085241</td>\n",
              "      <td>0.202703</td>\n",
              "      <td>0.2</td>\n",
              "      <td>0.630645</td>\n",
              "      <td>0.381123</td>\n",
              "      <td>0.257440</td>\n",
              "      <td>0.024000</td>\n",
              "      <td>0.20</td>\n",
              "      <td>0.025126</td>\n",
              "      <td>0.873846</td>\n",
              "      <td>0.50</td>\n",
              "      <td>0.085417</td>\n",
              "      <td>0.085241</td>\n",
              "      <td>0.774780</td>\n",
              "      <td>0.025126</td>\n",
              "    </tr>\n",
              "    <tr>\n",
              "      <th>105123</th>\n",
              "      <td>1.0</td>\n",
              "      <td>0.25</td>\n",
              "      <td>0.772443</td>\n",
              "      <td>0.038692</td>\n",
              "      <td>0.594595</td>\n",
              "      <td>0.5</td>\n",
              "      <td>0.806267</td>\n",
              "      <td>0.169800</td>\n",
              "      <td>0.740327</td>\n",
              "      <td>0.047973</td>\n",
              "      <td>0.72</td>\n",
              "      <td>0.020095</td>\n",
              "      <td>0.876923</td>\n",
              "      <td>0.25</td>\n",
              "      <td>0.045211</td>\n",
              "      <td>0.038692</td>\n",
              "      <td>0.772443</td>\n",
              "      <td>0.020095</td>\n",
              "    </tr>\n",
              "  </tbody>\n",
              "</table>\n",
              "</div>"
            ],
            "text/plain": [
              "        Late_delivery_risk  ...  Product Price\n",
              "85291                  0.0  ...       0.060302\n",
              "65167                  1.0  ...       0.145724\n",
              "51924                  0.0  ...       0.050251\n",
              "58993                  1.0  ...       0.025126\n",
              "105123                 1.0  ...       0.020095\n",
              "\n",
              "[5 rows x 18 columns]"
            ]
          },
          "metadata": {},
          "execution_count": 17
        }
      ]
    },
    {
      "cell_type": "markdown",
      "metadata": {
        "id": "KSoc-vjRE8Yd"
      },
      "source": [
        ""
      ]
    },
    {
      "cell_type": "code",
      "metadata": {
        "id": "8E-40czmD8Q6"
      },
      "source": [
        "df1.reset_index(drop=True,inplace=True)"
      ],
      "execution_count": 18,
      "outputs": []
    },
    {
      "cell_type": "code",
      "metadata": {
        "colab": {
          "base_uri": "https://localhost:8080/",
          "height": 278
        },
        "id": "XoFOjeoAD8Q6",
        "outputId": "96fa3745-8b8d-410e-e880-bc0dc3e65872"
      },
      "source": [
        "df1.head()"
      ],
      "execution_count": 19,
      "outputs": [
        {
          "output_type": "execute_result",
          "data": {
            "text/html": [
              "<div>\n",
              "<style scoped>\n",
              "    .dataframe tbody tr th:only-of-type {\n",
              "        vertical-align: middle;\n",
              "    }\n",
              "\n",
              "    .dataframe tbody tr th {\n",
              "        vertical-align: top;\n",
              "    }\n",
              "\n",
              "    .dataframe thead th {\n",
              "        text-align: right;\n",
              "    }\n",
              "</style>\n",
              "<table border=\"1\" class=\"dataframe\">\n",
              "  <thead>\n",
              "    <tr style=\"text-align: right;\">\n",
              "      <th></th>\n",
              "      <th>Late_delivery_risk</th>\n",
              "      <th>Days for shipment (scheduled)</th>\n",
              "      <th>Benefit per order</th>\n",
              "      <th>Sales per customer</th>\n",
              "      <th>Category Id</th>\n",
              "      <th>Department Id</th>\n",
              "      <th>Latitude</th>\n",
              "      <th>Longitude</th>\n",
              "      <th>Order Item Cardprod Id</th>\n",
              "      <th>Order Item Discount</th>\n",
              "      <th>Order Item Discount Rate</th>\n",
              "      <th>Order Item Product Price</th>\n",
              "      <th>Order Item Profit Ratio</th>\n",
              "      <th>Order Item Quantity</th>\n",
              "      <th>Sales</th>\n",
              "      <th>Order Item Total</th>\n",
              "      <th>Order Profit Per Order</th>\n",
              "      <th>Product Price</th>\n",
              "    </tr>\n",
              "  </thead>\n",
              "  <tbody>\n",
              "    <tr>\n",
              "      <th>0</th>\n",
              "      <td>0.0</td>\n",
              "      <td>1.00</td>\n",
              "      <td>0.772804</td>\n",
              "      <td>0.060408</td>\n",
              "      <td>0.216216</td>\n",
              "      <td>0.2</td>\n",
              "      <td>0.822071</td>\n",
              "      <td>0.166666</td>\n",
              "      <td>0.285714</td>\n",
              "      <td>0.017333</td>\n",
              "      <td>0.20</td>\n",
              "      <td>0.060302</td>\n",
              "      <td>0.870769</td>\n",
              "      <td>0.00</td>\n",
              "      <td>0.060302</td>\n",
              "      <td>0.060408</td>\n",
              "      <td>0.772804</td>\n",
              "      <td>0.060302</td>\n",
              "    </tr>\n",
              "    <tr>\n",
              "      <th>1</th>\n",
              "      <td>1.0</td>\n",
              "      <td>0.50</td>\n",
              "      <td>0.771180</td>\n",
              "      <td>0.113494</td>\n",
              "      <td>0.554054</td>\n",
              "      <td>0.5</td>\n",
              "      <td>0.905457</td>\n",
              "      <td>0.348466</td>\n",
              "      <td>0.697917</td>\n",
              "      <td>0.200000</td>\n",
              "      <td>1.00</td>\n",
              "      <td>0.145724</td>\n",
              "      <td>0.852308</td>\n",
              "      <td>0.00</td>\n",
              "      <td>0.145724</td>\n",
              "      <td>0.113494</td>\n",
              "      <td>0.771180</td>\n",
              "      <td>0.145724</td>\n",
              "    </tr>\n",
              "    <tr>\n",
              "      <th>2</th>\n",
              "      <td>0.0</td>\n",
              "      <td>1.00</td>\n",
              "      <td>0.775848</td>\n",
              "      <td>0.045868</td>\n",
              "      <td>0.378378</td>\n",
              "      <td>0.4</td>\n",
              "      <td>0.631427</td>\n",
              "      <td>0.381123</td>\n",
              "      <td>0.481399</td>\n",
              "      <td>0.038133</td>\n",
              "      <td>0.52</td>\n",
              "      <td>0.050251</td>\n",
              "      <td>0.904615</td>\n",
              "      <td>0.00</td>\n",
              "      <td>0.050251</td>\n",
              "      <td>0.045868</td>\n",
              "      <td>0.775848</td>\n",
              "      <td>0.050251</td>\n",
              "    </tr>\n",
              "    <tr>\n",
              "      <th>3</th>\n",
              "      <td>1.0</td>\n",
              "      <td>0.25</td>\n",
              "      <td>0.774780</td>\n",
              "      <td>0.085241</td>\n",
              "      <td>0.202703</td>\n",
              "      <td>0.2</td>\n",
              "      <td>0.630645</td>\n",
              "      <td>0.381123</td>\n",
              "      <td>0.257440</td>\n",
              "      <td>0.024000</td>\n",
              "      <td>0.20</td>\n",
              "      <td>0.025126</td>\n",
              "      <td>0.873846</td>\n",
              "      <td>0.50</td>\n",
              "      <td>0.085417</td>\n",
              "      <td>0.085241</td>\n",
              "      <td>0.774780</td>\n",
              "      <td>0.025126</td>\n",
              "    </tr>\n",
              "    <tr>\n",
              "      <th>4</th>\n",
              "      <td>1.0</td>\n",
              "      <td>0.25</td>\n",
              "      <td>0.772443</td>\n",
              "      <td>0.038692</td>\n",
              "      <td>0.594595</td>\n",
              "      <td>0.5</td>\n",
              "      <td>0.806267</td>\n",
              "      <td>0.169800</td>\n",
              "      <td>0.740327</td>\n",
              "      <td>0.047973</td>\n",
              "      <td>0.72</td>\n",
              "      <td>0.020095</td>\n",
              "      <td>0.876923</td>\n",
              "      <td>0.25</td>\n",
              "      <td>0.045211</td>\n",
              "      <td>0.038692</td>\n",
              "      <td>0.772443</td>\n",
              "      <td>0.020095</td>\n",
              "    </tr>\n",
              "  </tbody>\n",
              "</table>\n",
              "</div>"
            ],
            "text/plain": [
              "   Late_delivery_risk  ...  Product Price\n",
              "0                 0.0  ...       0.060302\n",
              "1                 1.0  ...       0.145724\n",
              "2                 0.0  ...       0.050251\n",
              "3                 1.0  ...       0.025126\n",
              "4                 1.0  ...       0.020095\n",
              "\n",
              "[5 rows x 18 columns]"
            ]
          },
          "metadata": {},
          "execution_count": 19
        }
      ]
    },
    {
      "cell_type": "code",
      "metadata": {
        "colab": {
          "base_uri": "https://localhost:8080/",
          "height": 256
        },
        "id": "nz8OTZ8bD8Q6",
        "outputId": "be5ac203-6c1f-4d0a-8c06-873c5bb990ef"
      },
      "source": [
        "encoded_df.head()"
      ],
      "execution_count": 20,
      "outputs": [
        {
          "output_type": "execute_result",
          "data": {
            "text/html": [
              "<div>\n",
              "<style scoped>\n",
              "    .dataframe tbody tr th:only-of-type {\n",
              "        vertical-align: middle;\n",
              "    }\n",
              "\n",
              "    .dataframe tbody tr th {\n",
              "        vertical-align: top;\n",
              "    }\n",
              "\n",
              "    .dataframe thead th {\n",
              "        text-align: right;\n",
              "    }\n",
              "</style>\n",
              "<table border=\"1\" class=\"dataframe\">\n",
              "  <thead>\n",
              "    <tr style=\"text-align: right;\">\n",
              "      <th></th>\n",
              "      <th>0</th>\n",
              "      <th>1</th>\n",
              "      <th>2</th>\n",
              "      <th>3</th>\n",
              "      <th>4</th>\n",
              "      <th>5</th>\n",
              "      <th>6</th>\n",
              "      <th>7</th>\n",
              "      <th>8</th>\n",
              "      <th>9</th>\n",
              "      <th>10</th>\n",
              "      <th>11</th>\n",
              "      <th>12</th>\n",
              "      <th>13</th>\n",
              "      <th>14</th>\n",
              "      <th>15</th>\n",
              "      <th>16</th>\n",
              "      <th>17</th>\n",
              "      <th>18</th>\n",
              "      <th>19</th>\n",
              "      <th>20</th>\n",
              "      <th>21</th>\n",
              "      <th>22</th>\n",
              "      <th>23</th>\n",
              "      <th>24</th>\n",
              "      <th>25</th>\n",
              "      <th>26</th>\n",
              "      <th>27</th>\n",
              "      <th>28</th>\n",
              "      <th>29</th>\n",
              "      <th>30</th>\n",
              "      <th>31</th>\n",
              "      <th>32</th>\n",
              "      <th>33</th>\n",
              "      <th>34</th>\n",
              "      <th>35</th>\n",
              "      <th>36</th>\n",
              "      <th>37</th>\n",
              "      <th>38</th>\n",
              "      <th>39</th>\n",
              "      <th>...</th>\n",
              "      <th>10163</th>\n",
              "      <th>10164</th>\n",
              "      <th>10165</th>\n",
              "      <th>10166</th>\n",
              "      <th>10167</th>\n",
              "      <th>10168</th>\n",
              "      <th>10169</th>\n",
              "      <th>10170</th>\n",
              "      <th>10171</th>\n",
              "      <th>10172</th>\n",
              "      <th>10173</th>\n",
              "      <th>10174</th>\n",
              "      <th>10175</th>\n",
              "      <th>10176</th>\n",
              "      <th>10177</th>\n",
              "      <th>10178</th>\n",
              "      <th>10179</th>\n",
              "      <th>10180</th>\n",
              "      <th>10181</th>\n",
              "      <th>10182</th>\n",
              "      <th>10183</th>\n",
              "      <th>10184</th>\n",
              "      <th>10185</th>\n",
              "      <th>10186</th>\n",
              "      <th>10187</th>\n",
              "      <th>10188</th>\n",
              "      <th>10189</th>\n",
              "      <th>10190</th>\n",
              "      <th>10191</th>\n",
              "      <th>10192</th>\n",
              "      <th>10193</th>\n",
              "      <th>10194</th>\n",
              "      <th>10195</th>\n",
              "      <th>10196</th>\n",
              "      <th>10197</th>\n",
              "      <th>10198</th>\n",
              "      <th>10199</th>\n",
              "      <th>10200</th>\n",
              "      <th>10201</th>\n",
              "      <th>10202</th>\n",
              "    </tr>\n",
              "  </thead>\n",
              "  <tbody>\n",
              "    <tr>\n",
              "      <th>0</th>\n",
              "      <td>0.0</td>\n",
              "      <td>0.0</td>\n",
              "      <td>0.0</td>\n",
              "      <td>1.0</td>\n",
              "      <td>0.0</td>\n",
              "      <td>0.0</td>\n",
              "      <td>0.0</td>\n",
              "      <td>0.0</td>\n",
              "      <td>0.0</td>\n",
              "      <td>0.0</td>\n",
              "      <td>0.0</td>\n",
              "      <td>0.0</td>\n",
              "      <td>0.0</td>\n",
              "      <td>0.0</td>\n",
              "      <td>0.0</td>\n",
              "      <td>0.0</td>\n",
              "      <td>0.0</td>\n",
              "      <td>0.0</td>\n",
              "      <td>0.0</td>\n",
              "      <td>0.0</td>\n",
              "      <td>0.0</td>\n",
              "      <td>0.0</td>\n",
              "      <td>0.0</td>\n",
              "      <td>0.0</td>\n",
              "      <td>0.0</td>\n",
              "      <td>0.0</td>\n",
              "      <td>0.0</td>\n",
              "      <td>0.0</td>\n",
              "      <td>0.0</td>\n",
              "      <td>0.0</td>\n",
              "      <td>0.0</td>\n",
              "      <td>0.0</td>\n",
              "      <td>0.0</td>\n",
              "      <td>0.0</td>\n",
              "      <td>0.0</td>\n",
              "      <td>0.0</td>\n",
              "      <td>0.0</td>\n",
              "      <td>0.0</td>\n",
              "      <td>0.0</td>\n",
              "      <td>0.0</td>\n",
              "      <td>...</td>\n",
              "      <td>0.0</td>\n",
              "      <td>0.0</td>\n",
              "      <td>0.0</td>\n",
              "      <td>0.0</td>\n",
              "      <td>0.0</td>\n",
              "      <td>0.0</td>\n",
              "      <td>0.0</td>\n",
              "      <td>0.0</td>\n",
              "      <td>0.0</td>\n",
              "      <td>0.0</td>\n",
              "      <td>0.0</td>\n",
              "      <td>0.0</td>\n",
              "      <td>0.0</td>\n",
              "      <td>0.0</td>\n",
              "      <td>0.0</td>\n",
              "      <td>0.0</td>\n",
              "      <td>0.0</td>\n",
              "      <td>0.0</td>\n",
              "      <td>0.0</td>\n",
              "      <td>0.0</td>\n",
              "      <td>0.0</td>\n",
              "      <td>0.0</td>\n",
              "      <td>0.0</td>\n",
              "      <td>0.0</td>\n",
              "      <td>0.0</td>\n",
              "      <td>0.0</td>\n",
              "      <td>1.0</td>\n",
              "      <td>0.0</td>\n",
              "      <td>0.0</td>\n",
              "      <td>0.0</td>\n",
              "      <td>0.0</td>\n",
              "      <td>0.0</td>\n",
              "      <td>0.0</td>\n",
              "      <td>0.0</td>\n",
              "      <td>1.0</td>\n",
              "      <td>0.0</td>\n",
              "      <td>0.0</td>\n",
              "      <td>0.0</td>\n",
              "      <td>0.0</td>\n",
              "      <td>1.0</td>\n",
              "    </tr>\n",
              "    <tr>\n",
              "      <th>1</th>\n",
              "      <td>0.0</td>\n",
              "      <td>1.0</td>\n",
              "      <td>0.0</td>\n",
              "      <td>0.0</td>\n",
              "      <td>0.0</td>\n",
              "      <td>0.0</td>\n",
              "      <td>0.0</td>\n",
              "      <td>0.0</td>\n",
              "      <td>0.0</td>\n",
              "      <td>0.0</td>\n",
              "      <td>0.0</td>\n",
              "      <td>0.0</td>\n",
              "      <td>0.0</td>\n",
              "      <td>0.0</td>\n",
              "      <td>0.0</td>\n",
              "      <td>0.0</td>\n",
              "      <td>0.0</td>\n",
              "      <td>0.0</td>\n",
              "      <td>0.0</td>\n",
              "      <td>0.0</td>\n",
              "      <td>0.0</td>\n",
              "      <td>0.0</td>\n",
              "      <td>0.0</td>\n",
              "      <td>0.0</td>\n",
              "      <td>0.0</td>\n",
              "      <td>0.0</td>\n",
              "      <td>0.0</td>\n",
              "      <td>0.0</td>\n",
              "      <td>0.0</td>\n",
              "      <td>0.0</td>\n",
              "      <td>0.0</td>\n",
              "      <td>0.0</td>\n",
              "      <td>0.0</td>\n",
              "      <td>0.0</td>\n",
              "      <td>0.0</td>\n",
              "      <td>0.0</td>\n",
              "      <td>0.0</td>\n",
              "      <td>0.0</td>\n",
              "      <td>0.0</td>\n",
              "      <td>0.0</td>\n",
              "      <td>...</td>\n",
              "      <td>0.0</td>\n",
              "      <td>0.0</td>\n",
              "      <td>0.0</td>\n",
              "      <td>0.0</td>\n",
              "      <td>0.0</td>\n",
              "      <td>0.0</td>\n",
              "      <td>0.0</td>\n",
              "      <td>0.0</td>\n",
              "      <td>0.0</td>\n",
              "      <td>0.0</td>\n",
              "      <td>0.0</td>\n",
              "      <td>0.0</td>\n",
              "      <td>0.0</td>\n",
              "      <td>0.0</td>\n",
              "      <td>0.0</td>\n",
              "      <td>1.0</td>\n",
              "      <td>0.0</td>\n",
              "      <td>0.0</td>\n",
              "      <td>0.0</td>\n",
              "      <td>0.0</td>\n",
              "      <td>0.0</td>\n",
              "      <td>0.0</td>\n",
              "      <td>0.0</td>\n",
              "      <td>0.0</td>\n",
              "      <td>0.0</td>\n",
              "      <td>0.0</td>\n",
              "      <td>0.0</td>\n",
              "      <td>0.0</td>\n",
              "      <td>0.0</td>\n",
              "      <td>1.0</td>\n",
              "      <td>0.0</td>\n",
              "      <td>0.0</td>\n",
              "      <td>0.0</td>\n",
              "      <td>0.0</td>\n",
              "      <td>0.0</td>\n",
              "      <td>0.0</td>\n",
              "      <td>0.0</td>\n",
              "      <td>0.0</td>\n",
              "      <td>1.0</td>\n",
              "      <td>0.0</td>\n",
              "    </tr>\n",
              "    <tr>\n",
              "      <th>2</th>\n",
              "      <td>0.0</td>\n",
              "      <td>0.0</td>\n",
              "      <td>0.0</td>\n",
              "      <td>1.0</td>\n",
              "      <td>0.0</td>\n",
              "      <td>0.0</td>\n",
              "      <td>0.0</td>\n",
              "      <td>0.0</td>\n",
              "      <td>0.0</td>\n",
              "      <td>0.0</td>\n",
              "      <td>0.0</td>\n",
              "      <td>0.0</td>\n",
              "      <td>0.0</td>\n",
              "      <td>0.0</td>\n",
              "      <td>0.0</td>\n",
              "      <td>0.0</td>\n",
              "      <td>0.0</td>\n",
              "      <td>0.0</td>\n",
              "      <td>0.0</td>\n",
              "      <td>0.0</td>\n",
              "      <td>0.0</td>\n",
              "      <td>0.0</td>\n",
              "      <td>0.0</td>\n",
              "      <td>0.0</td>\n",
              "      <td>0.0</td>\n",
              "      <td>0.0</td>\n",
              "      <td>0.0</td>\n",
              "      <td>0.0</td>\n",
              "      <td>0.0</td>\n",
              "      <td>0.0</td>\n",
              "      <td>0.0</td>\n",
              "      <td>0.0</td>\n",
              "      <td>0.0</td>\n",
              "      <td>0.0</td>\n",
              "      <td>0.0</td>\n",
              "      <td>0.0</td>\n",
              "      <td>0.0</td>\n",
              "      <td>0.0</td>\n",
              "      <td>0.0</td>\n",
              "      <td>0.0</td>\n",
              "      <td>...</td>\n",
              "      <td>0.0</td>\n",
              "      <td>0.0</td>\n",
              "      <td>0.0</td>\n",
              "      <td>0.0</td>\n",
              "      <td>0.0</td>\n",
              "      <td>0.0</td>\n",
              "      <td>0.0</td>\n",
              "      <td>1.0</td>\n",
              "      <td>0.0</td>\n",
              "      <td>0.0</td>\n",
              "      <td>0.0</td>\n",
              "      <td>0.0</td>\n",
              "      <td>0.0</td>\n",
              "      <td>0.0</td>\n",
              "      <td>0.0</td>\n",
              "      <td>0.0</td>\n",
              "      <td>0.0</td>\n",
              "      <td>0.0</td>\n",
              "      <td>0.0</td>\n",
              "      <td>0.0</td>\n",
              "      <td>0.0</td>\n",
              "      <td>0.0</td>\n",
              "      <td>0.0</td>\n",
              "      <td>0.0</td>\n",
              "      <td>0.0</td>\n",
              "      <td>0.0</td>\n",
              "      <td>0.0</td>\n",
              "      <td>0.0</td>\n",
              "      <td>0.0</td>\n",
              "      <td>0.0</td>\n",
              "      <td>0.0</td>\n",
              "      <td>0.0</td>\n",
              "      <td>1.0</td>\n",
              "      <td>0.0</td>\n",
              "      <td>0.0</td>\n",
              "      <td>0.0</td>\n",
              "      <td>0.0</td>\n",
              "      <td>0.0</td>\n",
              "      <td>0.0</td>\n",
              "      <td>1.0</td>\n",
              "    </tr>\n",
              "    <tr>\n",
              "      <th>3</th>\n",
              "      <td>0.0</td>\n",
              "      <td>0.0</td>\n",
              "      <td>1.0</td>\n",
              "      <td>0.0</td>\n",
              "      <td>0.0</td>\n",
              "      <td>0.0</td>\n",
              "      <td>0.0</td>\n",
              "      <td>0.0</td>\n",
              "      <td>0.0</td>\n",
              "      <td>0.0</td>\n",
              "      <td>0.0</td>\n",
              "      <td>0.0</td>\n",
              "      <td>0.0</td>\n",
              "      <td>0.0</td>\n",
              "      <td>0.0</td>\n",
              "      <td>0.0</td>\n",
              "      <td>0.0</td>\n",
              "      <td>0.0</td>\n",
              "      <td>0.0</td>\n",
              "      <td>0.0</td>\n",
              "      <td>0.0</td>\n",
              "      <td>0.0</td>\n",
              "      <td>0.0</td>\n",
              "      <td>0.0</td>\n",
              "      <td>0.0</td>\n",
              "      <td>0.0</td>\n",
              "      <td>0.0</td>\n",
              "      <td>0.0</td>\n",
              "      <td>0.0</td>\n",
              "      <td>0.0</td>\n",
              "      <td>0.0</td>\n",
              "      <td>0.0</td>\n",
              "      <td>0.0</td>\n",
              "      <td>0.0</td>\n",
              "      <td>0.0</td>\n",
              "      <td>0.0</td>\n",
              "      <td>0.0</td>\n",
              "      <td>0.0</td>\n",
              "      <td>0.0</td>\n",
              "      <td>0.0</td>\n",
              "      <td>...</td>\n",
              "      <td>0.0</td>\n",
              "      <td>0.0</td>\n",
              "      <td>0.0</td>\n",
              "      <td>0.0</td>\n",
              "      <td>0.0</td>\n",
              "      <td>0.0</td>\n",
              "      <td>0.0</td>\n",
              "      <td>0.0</td>\n",
              "      <td>0.0</td>\n",
              "      <td>0.0</td>\n",
              "      <td>0.0</td>\n",
              "      <td>0.0</td>\n",
              "      <td>0.0</td>\n",
              "      <td>1.0</td>\n",
              "      <td>0.0</td>\n",
              "      <td>0.0</td>\n",
              "      <td>0.0</td>\n",
              "      <td>0.0</td>\n",
              "      <td>0.0</td>\n",
              "      <td>0.0</td>\n",
              "      <td>0.0</td>\n",
              "      <td>0.0</td>\n",
              "      <td>0.0</td>\n",
              "      <td>0.0</td>\n",
              "      <td>0.0</td>\n",
              "      <td>0.0</td>\n",
              "      <td>0.0</td>\n",
              "      <td>0.0</td>\n",
              "      <td>0.0</td>\n",
              "      <td>0.0</td>\n",
              "      <td>0.0</td>\n",
              "      <td>0.0</td>\n",
              "      <td>0.0</td>\n",
              "      <td>1.0</td>\n",
              "      <td>0.0</td>\n",
              "      <td>0.0</td>\n",
              "      <td>1.0</td>\n",
              "      <td>0.0</td>\n",
              "      <td>0.0</td>\n",
              "      <td>0.0</td>\n",
              "    </tr>\n",
              "    <tr>\n",
              "      <th>4</th>\n",
              "      <td>0.0</td>\n",
              "      <td>0.0</td>\n",
              "      <td>1.0</td>\n",
              "      <td>0.0</td>\n",
              "      <td>0.0</td>\n",
              "      <td>0.0</td>\n",
              "      <td>0.0</td>\n",
              "      <td>0.0</td>\n",
              "      <td>0.0</td>\n",
              "      <td>0.0</td>\n",
              "      <td>0.0</td>\n",
              "      <td>0.0</td>\n",
              "      <td>0.0</td>\n",
              "      <td>0.0</td>\n",
              "      <td>0.0</td>\n",
              "      <td>0.0</td>\n",
              "      <td>0.0</td>\n",
              "      <td>0.0</td>\n",
              "      <td>0.0</td>\n",
              "      <td>0.0</td>\n",
              "      <td>0.0</td>\n",
              "      <td>0.0</td>\n",
              "      <td>0.0</td>\n",
              "      <td>0.0</td>\n",
              "      <td>0.0</td>\n",
              "      <td>0.0</td>\n",
              "      <td>0.0</td>\n",
              "      <td>0.0</td>\n",
              "      <td>0.0</td>\n",
              "      <td>0.0</td>\n",
              "      <td>0.0</td>\n",
              "      <td>0.0</td>\n",
              "      <td>0.0</td>\n",
              "      <td>0.0</td>\n",
              "      <td>0.0</td>\n",
              "      <td>0.0</td>\n",
              "      <td>0.0</td>\n",
              "      <td>0.0</td>\n",
              "      <td>0.0</td>\n",
              "      <td>0.0</td>\n",
              "      <td>...</td>\n",
              "      <td>0.0</td>\n",
              "      <td>0.0</td>\n",
              "      <td>0.0</td>\n",
              "      <td>0.0</td>\n",
              "      <td>0.0</td>\n",
              "      <td>0.0</td>\n",
              "      <td>0.0</td>\n",
              "      <td>0.0</td>\n",
              "      <td>0.0</td>\n",
              "      <td>0.0</td>\n",
              "      <td>0.0</td>\n",
              "      <td>0.0</td>\n",
              "      <td>0.0</td>\n",
              "      <td>0.0</td>\n",
              "      <td>0.0</td>\n",
              "      <td>0.0</td>\n",
              "      <td>0.0</td>\n",
              "      <td>0.0</td>\n",
              "      <td>0.0</td>\n",
              "      <td>0.0</td>\n",
              "      <td>0.0</td>\n",
              "      <td>1.0</td>\n",
              "      <td>0.0</td>\n",
              "      <td>0.0</td>\n",
              "      <td>0.0</td>\n",
              "      <td>0.0</td>\n",
              "      <td>0.0</td>\n",
              "      <td>0.0</td>\n",
              "      <td>0.0</td>\n",
              "      <td>0.0</td>\n",
              "      <td>0.0</td>\n",
              "      <td>1.0</td>\n",
              "      <td>0.0</td>\n",
              "      <td>0.0</td>\n",
              "      <td>0.0</td>\n",
              "      <td>0.0</td>\n",
              "      <td>1.0</td>\n",
              "      <td>0.0</td>\n",
              "      <td>0.0</td>\n",
              "      <td>0.0</td>\n",
              "    </tr>\n",
              "  </tbody>\n",
              "</table>\n",
              "<p>5 rows × 10203 columns</p>\n",
              "</div>"
            ],
            "text/plain": [
              "   0      1      2      3      4      ...  10198  10199  10200  10201  10202\n",
              "0    0.0    0.0    0.0    1.0    0.0  ...    0.0    0.0    0.0    0.0    1.0\n",
              "1    0.0    1.0    0.0    0.0    0.0  ...    0.0    0.0    0.0    1.0    0.0\n",
              "2    0.0    0.0    0.0    1.0    0.0  ...    0.0    0.0    0.0    0.0    1.0\n",
              "3    0.0    0.0    1.0    0.0    0.0  ...    0.0    1.0    0.0    0.0    0.0\n",
              "4    0.0    0.0    1.0    0.0    0.0  ...    0.0    1.0    0.0    0.0    0.0\n",
              "\n",
              "[5 rows x 10203 columns]"
            ]
          },
          "metadata": {},
          "execution_count": 20
        }
      ]
    },
    {
      "cell_type": "code",
      "metadata": {
        "id": "9ISODRTBD8Q6"
      },
      "source": [
        "encoded_df.columns=encoded_df.columns.astype(str)"
      ],
      "execution_count": 21,
      "outputs": []
    },
    {
      "cell_type": "code",
      "metadata": {
        "colab": {
          "base_uri": "https://localhost:8080/"
        },
        "id": "qtd1TUucD8Q6",
        "outputId": "fff8c069-69bc-4782-ea44-1d28772fdacc"
      },
      "source": [
        "encoded_df.shape"
      ],
      "execution_count": 22,
      "outputs": [
        {
          "output_type": "execute_result",
          "data": {
            "text/plain": [
              "(18052, 10203)"
            ]
          },
          "metadata": {},
          "execution_count": 22
        }
      ]
    },
    {
      "cell_type": "code",
      "metadata": {
        "colab": {
          "base_uri": "https://localhost:8080/"
        },
        "id": "SLGTmKquD8Q6",
        "outputId": "1c589b94-4cd2-4c08-af55-b131966bb991"
      },
      "source": [
        "df1.shape"
      ],
      "execution_count": 23,
      "outputs": [
        {
          "output_type": "execute_result",
          "data": {
            "text/plain": [
              "(18052, 18)"
            ]
          },
          "metadata": {},
          "execution_count": 23
        }
      ]
    },
    {
      "cell_type": "code",
      "metadata": {
        "id": "KIyUHendD8Q7"
      },
      "source": [
        "final_df=pd.merge(df1,encoded_df, left_index=True, right_index=True)"
      ],
      "execution_count": 24,
      "outputs": []
    },
    {
      "cell_type": "code",
      "metadata": {
        "colab": {
          "base_uri": "https://localhost:8080/"
        },
        "id": "pVaX5LhND8Q7",
        "outputId": "a1a41642-5f0a-410f-c97a-1155edeb5805"
      },
      "source": [
        "final_df.shape"
      ],
      "execution_count": 25,
      "outputs": [
        {
          "output_type": "execute_result",
          "data": {
            "text/plain": [
              "(18052, 10221)"
            ]
          },
          "metadata": {},
          "execution_count": 25
        }
      ]
    },
    {
      "cell_type": "code",
      "metadata": {
        "id": "5fYOOWRZD8Q7"
      },
      "source": [
        "final_df1=final_df['Late_delivery_risk']"
      ],
      "execution_count": 26,
      "outputs": []
    },
    {
      "cell_type": "code",
      "metadata": {
        "id": "PfMQHWmLD8Q7"
      },
      "source": [
        "final_df2=final_df.drop('Late_delivery_risk',axis=1)"
      ],
      "execution_count": 27,
      "outputs": []
    },
    {
      "cell_type": "code",
      "metadata": {
        "colab": {
          "base_uri": "https://localhost:8080/"
        },
        "id": "BXVgIz8pD8Q7",
        "outputId": "bf260b01-ba75-4680-975c-a2ea7ce00273"
      },
      "source": [
        "final_df1.shape"
      ],
      "execution_count": 28,
      "outputs": [
        {
          "output_type": "execute_result",
          "data": {
            "text/plain": [
              "(18052,)"
            ]
          },
          "metadata": {},
          "execution_count": 28
        }
      ]
    },
    {
      "cell_type": "code",
      "metadata": {
        "colab": {
          "base_uri": "https://localhost:8080/"
        },
        "id": "0s2p_Y0JD8Q7",
        "outputId": "dfeab28d-b936-45d4-9897-f6c67427118e"
      },
      "source": [
        "final_df2.shape"
      ],
      "execution_count": 29,
      "outputs": [
        {
          "output_type": "execute_result",
          "data": {
            "text/plain": [
              "(18052, 10220)"
            ]
          },
          "metadata": {},
          "execution_count": 29
        }
      ]
    },
    {
      "cell_type": "code",
      "metadata": {
        "colab": {
          "base_uri": "https://localhost:8080/"
        },
        "id": "wGyLm-MwD8Q8",
        "outputId": "9d500758-3343-4e42-fde2-21bc9da0006e"
      },
      "source": [
        "final_df1.tail()"
      ],
      "execution_count": 30,
      "outputs": [
        {
          "output_type": "execute_result",
          "data": {
            "text/plain": [
              "18047    0.0\n",
              "18048    0.0\n",
              "18049    1.0\n",
              "18050    0.0\n",
              "18051    0.0\n",
              "Name: Late_delivery_risk, dtype: float64"
            ]
          },
          "metadata": {},
          "execution_count": 30
        }
      ]
    },
    {
      "cell_type": "code",
      "metadata": {
        "id": "DHP-9Zk0D8Q8"
      },
      "source": [
        "from sklearn.model_selection import cross_validate\n",
        "from sklearn.model_selection import cross_val_score\n",
        "from sklearn.linear_model import LogisticRegression"
      ],
      "execution_count": 31,
      "outputs": []
    },
    {
      "cell_type": "code",
      "metadata": {
        "id": "wMSt9XKZD8Q8",
        "outputId": "d554bb0a-7a9f-4420-d135-4993ea816cd0"
      },
      "source": [
        "cross_validate(LogisticRegression(solver='liblinear',multi_class='ovr'), final_df2,final_df1,scoring=['recall','precision','accuracy'],cv=10)"
      ],
      "execution_count": null,
      "outputs": [
        {
          "data": {
            "text/plain": [
              "{'fit_time': array([10.72816014,  5.35793114,  6.34382677,  6.58548307,  6.52702141,\n",
              "         6.26934648,  6.2727344 ,  6.49010968,  6.59624958,  6.35939121]),\n",
              " 'score_time': array([1.17957544, 0.10943604, 0.10597086, 0.09412742, 0.14012098,\n",
              "        0.10936737, 0.12314487, 0.07851243, 0.11353254, 0.08806062]),\n",
              " 'test_recall': array([0.69613821, 0.66429298, 0.66632757, 0.67955239, 0.69277721,\n",
              "        0.69989827, 0.69786368, 0.71617497, 0.68972533, 0.7110885 ]),\n",
              " 'test_precision': array([0.74618736, 0.75578704, 0.75114679, 0.73812155, 0.75582686,\n",
              "        0.74137931, 0.7489083 , 0.76688453, 0.73856209, 0.75813449]),\n",
              " 'test_accuracy': array([0.70542636, 0.70044297, 0.69806094, 0.69418283, 0.71080332,\n",
              "        0.70360111, 0.70803324, 0.72686981, 0.69806094, 0.71911357])}"
            ]
          },
          "execution_count": 37,
          "metadata": {},
          "output_type": "execute_result"
        }
      ]
    },
    {
      "cell_type": "code",
      "metadata": {
        "id": "LUi-x3k6D8Q8",
        "outputId": "9cb4485a-5515-4300-afbb-23666dbf32b2"
      },
      "source": [
        "#cross_val_score(LogisticRegression(solver='liblinear',multi_class='ovr'),final_df2,final_df1, scoring='recall',cv=10)"
      ],
      "execution_count": null,
      "outputs": [
        {
          "data": {
            "text/plain": [
              "array([0.77408638, 0.76756757, 0.77362637, 0.75399361, 0.7761194 ,\n",
              "       0.75543478, 0.76612022, 0.7562028 , 0.76772083, 0.74509804])"
            ]
          },
          "execution_count": 36,
          "metadata": {},
          "output_type": "execute_result"
        }
      ]
    },
    {
      "cell_type": "code",
      "metadata": {
        "id": "nxomr6aCD8Q8"
      },
      "source": [
        "from sklearn.ensemble import RandomForestClassifier"
      ],
      "execution_count": 43,
      "outputs": []
    },
    {
      "cell_type": "code",
      "metadata": {
        "id": "UmaO_wltD8Q8",
        "outputId": "82d4d1ec-8677-4616-fecd-5c7a442345a5"
      },
      "source": [
        "cross_val_score(RandomForestClassifier(n_estimators=40),final_df2,final_df1,scoring='recall' ,cv=10)"
      ],
      "execution_count": null,
      "outputs": [
        {
          "data": {
            "text/plain": [
              "array([0.82258065, 0.83138781, 0.83062331, 0.80739796, 0.82573727,\n",
              "       0.79663212, 0.83648649, 0.82430647, 0.79898219, 0.80784314])"
            ]
          },
          "execution_count": 54,
          "metadata": {},
          "output_type": "execute_result"
        }
      ]
    },
    {
      "cell_type": "code",
      "metadata": {
        "id": "NXPn9r0WD8Q8",
        "outputId": "94ea7153-0acb-449a-edc9-0940fe1bce23"
      },
      "source": [
        "cross_validate(RandomForestClassifier(n_estimators=50), final_df2,final_df1,scoring=['recall','precision','accuracy'],cv=10)"
      ],
      "execution_count": null,
      "outputs": [
        {
          "data": {
            "text/plain": [
              "{'fit_time': array([42.4977653 , 43.4555788 , 42.56390429, 40.95830154, 43.70050359,\n",
              "        43.73070359, 47.29086089, 43.31857824, 44.5154767 , 44.82117271]),\n",
              " 'score_time': array([0.22193408, 0.21872401, 0.17187309, 0.20304799, 0.20377707,\n",
              "        0.19623351, 0.2563405 , 0.18786669, 0.23631692, 0.17185807]),\n",
              " 'test_recall': array([0.59552846, 0.59003052, 0.59409969, 0.60834181, 0.60528993,\n",
              "        0.6276704 , 0.61953204, 0.64191251, 0.61546287, 0.62360122]),\n",
              " 'test_precision': array([0.81502086, 0.82503556, 0.82253521, 0.79415671, 0.8218232 ,\n",
              "        0.80865007, 0.82744565, 0.82054616, 0.78673602, 0.81951872]),\n",
              " 'test_accuracy': array([0.70598007, 0.70874862, 0.70914127, 0.70083102, 0.71357341,\n",
              "        0.71634349, 0.72243767, 0.72853186, 0.69972299, 0.72022161])}"
            ]
          },
          "execution_count": 42,
          "metadata": {},
          "output_type": "execute_result"
        }
      ]
    },
    {
      "cell_type": "code",
      "metadata": {
        "colab": {
          "base_uri": "https://localhost:8080/"
        },
        "id": "c8hKyEijD8Q9",
        "outputId": "5abfefff-0a00-462b-ddfe-639f677163c3"
      },
      "source": [
        "cross_validate(RandomForestClassifier(n_estimators=100), final_df2,final_df1,scoring=['recall','precision','accuracy'],cv=10)"
      ],
      "execution_count": 52,
      "outputs": [
        {
          "output_type": "execute_result",
          "data": {
            "text/plain": [
              "{'fit_time': array([64.48792505, 64.49891734, 64.71712255, 63.47135663, 64.3892417 ,\n",
              "        64.12732959, 63.32583404, 63.9357276 , 65.13119006, 64.3544004 ]),\n",
              " 'score_time': array([0.29351902, 0.28763819, 0.27293563, 0.27128339, 0.26895452,\n",
              "        0.27642989, 0.27567363, 0.28159881, 0.28640532, 0.28334665]),\n",
              " 'test_accuracy': array([0.72314507, 0.72535991, 0.71578947, 0.71468144, 0.72963989,\n",
              "        0.71966759, 0.74515235, 0.72797784, 0.72686981, 0.72742382]),\n",
              " 'test_precision': array([0.83310534, 0.83220568, 0.83356841, 0.82845188, 0.83831522,\n",
              "        0.83519553, 0.86046512, 0.84254144, 0.84497207, 0.84615385]),\n",
              " 'test_recall': array([0.61702128, 0.6231003 , 0.59939148, 0.60243408, 0.62576065,\n",
              "        0.60649087, 0.6372847 , 0.61803445, 0.61296859, 0.61296859])}"
            ]
          },
          "metadata": {},
          "execution_count": 52
        }
      ]
    },
    {
      "cell_type": "code",
      "metadata": {
        "id": "7SNbAcV0D8Q9",
        "outputId": "58d8100b-cfc5-4f28-eb23-4df5fec5f604"
      },
      "source": [
        "cross_val_score(RandomForestClassifier(n_estimators=50),final_df2,final_df1,scoring='recall' ,cv=10)"
      ],
      "execution_count": null,
      "outputs": [
        {
          "ename": "NameError",
          "evalue": "name 'RandomForestClassifier' is not defined",
          "output_type": "error",
          "traceback": [
            "\u001b[1;31m---------------------------------------------------------------------------\u001b[0m",
            "\u001b[1;31mNameError\u001b[0m                                 Traceback (most recent call last)",
            "\u001b[1;32m<ipython-input-40-2ebb06a0a2ae>\u001b[0m in \u001b[0;36m<module>\u001b[1;34m\u001b[0m\n\u001b[1;32m----> 1\u001b[1;33m \u001b[0mcross_val_score\u001b[0m\u001b[1;33m(\u001b[0m\u001b[0mRandomForestClassifier\u001b[0m\u001b[1;33m(\u001b[0m\u001b[0mn_estimators\u001b[0m\u001b[1;33m=\u001b[0m\u001b[1;36m50\u001b[0m\u001b[1;33m)\u001b[0m\u001b[1;33m,\u001b[0m\u001b[0mfinal_df2\u001b[0m\u001b[1;33m,\u001b[0m\u001b[0mfinal_df1\u001b[0m\u001b[1;33m,\u001b[0m\u001b[0mscoring\u001b[0m\u001b[1;33m=\u001b[0m\u001b[1;34m'recall'\u001b[0m \u001b[1;33m,\u001b[0m\u001b[0mcv\u001b[0m\u001b[1;33m=\u001b[0m\u001b[1;36m10\u001b[0m\u001b[1;33m)\u001b[0m\u001b[1;33m\u001b[0m\u001b[1;33m\u001b[0m\u001b[0m\n\u001b[0m",
            "\u001b[1;31mNameError\u001b[0m: name 'RandomForestClassifier' is not defined"
          ]
        }
      ]
    },
    {
      "cell_type": "code",
      "metadata": {
        "id": "u6KSPqLQD8Q9"
      },
      "source": [
        "from sklearn.svm import SVC"
      ],
      "execution_count": 32,
      "outputs": []
    },
    {
      "cell_type": "code",
      "metadata": {
        "id": "Fp2UFo6gD8Q9"
      },
      "source": [
        "# very slow, \n",
        "#cross_val_score(SVC(gamma='auto'), final_df2,final_df1,scoring='precision' ,cv=10)"
      ],
      "execution_count": null,
      "outputs": []
    },
    {
      "cell_type": "code",
      "metadata": {
        "id": "ln0g2HFwD8Q9"
      },
      "source": [
        "from sklearn.decomposition import PCA"
      ],
      "execution_count": 33,
      "outputs": []
    },
    {
      "cell_type": "code",
      "metadata": {
        "id": "m4kqbcjID8Q9"
      },
      "source": [
        "pca=PCA(n_components=6)"
      ],
      "execution_count": 53,
      "outputs": []
    },
    {
      "cell_type": "code",
      "metadata": {
        "colab": {
          "base_uri": "https://localhost:8080/"
        },
        "id": "u8GA9hb5D8Q9",
        "outputId": "5f926074-c18a-4fc5-f76e-40ed771ebb2e"
      },
      "source": [
        "pca.fit(final_df2)"
      ],
      "execution_count": 54,
      "outputs": [
        {
          "output_type": "execute_result",
          "data": {
            "text/plain": [
              "PCA(n_components=6)"
            ]
          },
          "metadata": {},
          "execution_count": 54
        }
      ]
    },
    {
      "cell_type": "code",
      "metadata": {
        "id": "4NCuMhFnD8Q-"
      },
      "source": [
        "final_df2_pca=pca.transform(final_df2)"
      ],
      "execution_count": 55,
      "outputs": []
    },
    {
      "cell_type": "code",
      "metadata": {
        "colab": {
          "base_uri": "https://localhost:8080/"
        },
        "id": "izXGlYQ9D8Q-",
        "outputId": "10d62d40-f0ef-42d4-9b84-142ccc617f1f"
      },
      "source": [
        "final_df2_pca.shape"
      ],
      "execution_count": 56,
      "outputs": [
        {
          "output_type": "execute_result",
          "data": {
            "text/plain": [
              "(18052, 6)"
            ]
          },
          "metadata": {},
          "execution_count": 56
        }
      ]
    },
    {
      "cell_type": "code",
      "metadata": {
        "id": "SPKJ9ae2D8Q-"
      },
      "source": [
        "final_df2_pca=pd.DataFrame(final_df2_pca)"
      ],
      "execution_count": 57,
      "outputs": []
    },
    {
      "cell_type": "code",
      "metadata": {
        "colab": {
          "base_uri": "https://localhost:8080/",
          "height": 206
        },
        "id": "n5Nks92GD8Q-",
        "outputId": "ece2d0b0-3038-49d0-f764-6c0d81a6af2f"
      },
      "source": [
        "final_df2_pca.head()"
      ],
      "execution_count": 58,
      "outputs": [
        {
          "output_type": "execute_result",
          "data": {
            "text/html": [
              "<div>\n",
              "<style scoped>\n",
              "    .dataframe tbody tr th:only-of-type {\n",
              "        vertical-align: middle;\n",
              "    }\n",
              "\n",
              "    .dataframe tbody tr th {\n",
              "        vertical-align: top;\n",
              "    }\n",
              "\n",
              "    .dataframe thead th {\n",
              "        text-align: right;\n",
              "    }\n",
              "</style>\n",
              "<table border=\"1\" class=\"dataframe\">\n",
              "  <thead>\n",
              "    <tr style=\"text-align: right;\">\n",
              "      <th></th>\n",
              "      <th>0</th>\n",
              "      <th>1</th>\n",
              "      <th>2</th>\n",
              "      <th>3</th>\n",
              "      <th>4</th>\n",
              "      <th>5</th>\n",
              "    </tr>\n",
              "  </thead>\n",
              "  <tbody>\n",
              "    <tr>\n",
              "      <th>0</th>\n",
              "      <td>-0.472631</td>\n",
              "      <td>-0.628414</td>\n",
              "      <td>-0.448481</td>\n",
              "      <td>0.301216</td>\n",
              "      <td>-1.318868</td>\n",
              "      <td>0.906046</td>\n",
              "    </tr>\n",
              "    <tr>\n",
              "      <th>1</th>\n",
              "      <td>1.029528</td>\n",
              "      <td>-0.458654</td>\n",
              "      <td>0.788786</td>\n",
              "      <td>-0.036535</td>\n",
              "      <td>0.002623</td>\n",
              "      <td>-0.585451</td>\n",
              "    </tr>\n",
              "    <tr>\n",
              "      <th>2</th>\n",
              "      <td>-0.564819</td>\n",
              "      <td>0.866225</td>\n",
              "      <td>-0.787584</td>\n",
              "      <td>1.090289</td>\n",
              "      <td>0.483553</td>\n",
              "      <td>0.806793</td>\n",
              "    </tr>\n",
              "    <tr>\n",
              "      <th>3</th>\n",
              "      <td>-0.863732</td>\n",
              "      <td>0.809182</td>\n",
              "      <td>0.916120</td>\n",
              "      <td>-0.697937</td>\n",
              "      <td>0.496076</td>\n",
              "      <td>-0.650867</td>\n",
              "    </tr>\n",
              "    <tr>\n",
              "      <th>4</th>\n",
              "      <td>-0.456952</td>\n",
              "      <td>-0.732050</td>\n",
              "      <td>1.008817</td>\n",
              "      <td>-0.528248</td>\n",
              "      <td>-0.382212</td>\n",
              "      <td>-0.560222</td>\n",
              "    </tr>\n",
              "  </tbody>\n",
              "</table>\n",
              "</div>"
            ],
            "text/plain": [
              "          0         1         2         3         4         5\n",
              "0 -0.472631 -0.628414 -0.448481  0.301216 -1.318868  0.906046\n",
              "1  1.029528 -0.458654  0.788786 -0.036535  0.002623 -0.585451\n",
              "2 -0.564819  0.866225 -0.787584  1.090289  0.483553  0.806793\n",
              "3 -0.863732  0.809182  0.916120 -0.697937  0.496076 -0.650867\n",
              "4 -0.456952 -0.732050  1.008817 -0.528248 -0.382212 -0.560222"
            ]
          },
          "metadata": {},
          "execution_count": 58
        }
      ]
    },
    {
      "cell_type": "code",
      "metadata": {
        "colab": {
          "base_uri": "https://localhost:8080/"
        },
        "id": "Ky1-0i9jD8Q-",
        "outputId": "6a7e582d-6a8f-49b2-df71-b06750f25228"
      },
      "source": [
        "prec=cross_val_score(LogisticRegression(solver='liblinear',multi_class='ovr'), final_df2_pca,final_df1,scoring='recall',cv=10)\n",
        "prec"
      ],
      "execution_count": 40,
      "outputs": [
        {
          "output_type": "execute_result",
          "data": {
            "text/plain": [
              "array([0.5491388 , 0.556231  , 0.53651116, 0.52332657, 0.56288032,\n",
              "       0.54259635, 0.5775076 , 0.5633232 , 0.56129686, 0.56838906])"
            ]
          },
          "metadata": {},
          "execution_count": 40
        }
      ]
    },
    {
      "cell_type": "code",
      "metadata": {
        "id": "KDmTqA39D8Q-",
        "outputId": "955b3c93-edad-42f3-c378-5453aa623c91"
      },
      "source": [
        "np.average(prec)"
      ],
      "execution_count": null,
      "outputs": [
        {
          "data": {
            "text/plain": [
              "0.8038098328193224"
            ]
          },
          "execution_count": 51,
          "metadata": {},
          "output_type": "execute_result"
        }
      ]
    },
    {
      "cell_type": "code",
      "metadata": {
        "colab": {
          "base_uri": "https://localhost:8080/"
        },
        "id": "ewuFVm0xD8Q-",
        "outputId": "e08da79a-860b-4522-a6c8-9c6454f22847"
      },
      "source": [
        "cross_validate(RandomForestClassifier(n_estimators=40),final_df2_pca,final_df1,scoring=['recall','precision','accuracy' ],cv=10)"
      ],
      "execution_count": 44,
      "outputs": [
        {
          "output_type": "execute_result",
          "data": {
            "text/plain": [
              "{'fit_time': array([3.68675494, 3.66198659, 3.66281772, 3.65118003, 3.64924383,\n",
              "        3.62917471, 3.61261535, 3.5202136 , 3.53361487, 3.69608164]),\n",
              " 'score_time': array([0.0290215 , 0.02911568, 0.02881622, 0.02927756, 0.03041744,\n",
              "        0.03204989, 0.02930617, 0.02897668, 0.03522325, 0.02886367]),\n",
              " 'test_accuracy': array([0.7021041 , 0.70265781, 0.69196676, 0.69750693, 0.70304709,\n",
              "        0.70526316, 0.71855956, 0.70526316, 0.70747922, 0.70470914]),\n",
              " 'test_precision': array([0.76318875, 0.75743707, 0.75966184, 0.75882353, 0.76041667,\n",
              "        0.7702381 , 0.77946324, 0.76859504, 0.76655052, 0.75913242]),\n",
              " 'test_recall': array([0.65957447, 0.67071935, 0.63793103, 0.65415822, 0.6663286 ,\n",
              "        0.65618661, 0.67679838, 0.65957447, 0.66869301, 0.67375887])}"
            ]
          },
          "metadata": {},
          "execution_count": 44
        }
      ]
    },
    {
      "cell_type": "code",
      "metadata": {
        "colab": {
          "base_uri": "https://localhost:8080/"
        },
        "id": "963C-PYNI5gJ",
        "outputId": "e563e6b6-97ea-4dad-dc27-0c182a90933c"
      },
      "source": [
        "cross_validate(RandomForestClassifier(n_estimators=60),final_df2_pca,final_df1,scoring=['recall','precision','accuracy' ],cv=10)"
      ],
      "execution_count": 50,
      "outputs": [
        {
          "output_type": "execute_result",
          "data": {
            "text/plain": [
              "{'fit_time': array([5.41006136, 5.47401881, 5.49582267, 5.57853937, 5.45587254,\n",
              "        5.35374403, 5.45044661, 5.46256542, 5.44311094, 5.48688221]),\n",
              " 'score_time': array([0.03837132, 0.04178858, 0.04028773, 0.04050136, 0.03997517,\n",
              "        0.04227519, 0.03964257, 0.0390048 , 0.03829241, 0.04040837]),\n",
              " 'test_accuracy': array([0.71207087, 0.69712071, 0.70692521, 0.70470914, 0.71689751,\n",
              "        0.70027701, 0.72465374, 0.70914127, 0.70304709, 0.71689751]),\n",
              " 'test_precision': array([0.77502945, 0.74498886, 0.77365269, 0.77060932, 0.77520278,\n",
              "        0.75842044, 0.79028436, 0.77112676, 0.76374269, 0.77293578]),\n",
              " 'test_recall': array([0.66666667, 0.67781155, 0.65517241, 0.65415822, 0.67849899,\n",
              "        0.66227181, 0.67578521, 0.6656535 , 0.66160081, 0.68287741])}"
            ]
          },
          "metadata": {},
          "execution_count": 50
        }
      ]
    },
    {
      "cell_type": "code",
      "metadata": {
        "colab": {
          "base_uri": "https://localhost:8080/"
        },
        "id": "SLDIUtK_JV2U",
        "outputId": "786a2ef3-f121-47d1-f1b4-5bb7ef17d3fc"
      },
      "source": [
        "cross_validate(RandomForestClassifier(n_estimators=100),final_df2_pca,final_df1,scoring=['recall','precision','accuracy' ],cv=10)"
      ],
      "execution_count": 51,
      "outputs": [
        {
          "output_type": "execute_result",
          "data": {
            "text/plain": [
              "{'fit_time': array([9.25037861, 9.20881391, 9.26471782, 9.28436661, 9.19036674,\n",
              "        9.2222085 , 9.24971843, 9.30462074, 9.15909433, 9.34547353]),\n",
              " 'score_time': array([0.06284428, 0.06214833, 0.06741881, 0.06190205, 0.05955052,\n",
              "        0.06251931, 0.06344175, 0.06183672, 0.06150508, 0.06530476]),\n",
              " 'test_accuracy': array([0.71317829, 0.71151717, 0.70193906, 0.69418283, 0.70470914,\n",
              "        0.70747922, 0.72354571, 0.71024931, 0.70637119, 0.72354571]),\n",
              " 'test_precision': array([0.7762073 , 0.76598174, 0.7673031 , 0.757109  , 0.76491228,\n",
              "        0.77004717, 0.79116945, 0.77619048, 0.76662777, 0.77539503]),\n",
              " 'test_recall': array([0.66767984, 0.67983789, 0.65212982, 0.64807302, 0.663286  ,\n",
              "        0.66227181, 0.67173252, 0.66058764, 0.6656535 , 0.69604863])}"
            ]
          },
          "metadata": {},
          "execution_count": 51
        }
      ]
    },
    {
      "cell_type": "code",
      "metadata": {
        "id": "OKY3htKoD8Q-",
        "outputId": "2a7d6d2a-87dc-4597-f348-ac9e34c40f3d"
      },
      "source": [
        "np.average(prec_randomforest)"
      ],
      "execution_count": null,
      "outputs": [
        {
          "ename": "NameError",
          "evalue": "name 'prec_randomforest' is not defined",
          "output_type": "error",
          "traceback": [
            "\u001b[1;31m---------------------------------------------------------------------------\u001b[0m",
            "\u001b[1;31mNameError\u001b[0m                                 Traceback (most recent call last)",
            "\u001b[1;32m<ipython-input-51-24723db81b01>\u001b[0m in \u001b[0;36m<module>\u001b[1;34m\u001b[0m\n\u001b[1;32m----> 1\u001b[1;33m \u001b[0mnp\u001b[0m\u001b[1;33m.\u001b[0m\u001b[0maverage\u001b[0m\u001b[1;33m(\u001b[0m\u001b[0mprec_randomforest\u001b[0m\u001b[1;33m)\u001b[0m\u001b[1;33m\u001b[0m\u001b[1;33m\u001b[0m\u001b[0m\n\u001b[0m",
            "\u001b[1;31mNameError\u001b[0m: name 'prec_randomforest' is not defined"
          ]
        }
      ]
    },
    {
      "cell_type": "code",
      "metadata": {
        "id": "y7BDLB0BD8Q_"
      },
      "source": [
        "from sklearn.svm import SVC"
      ],
      "execution_count": 45,
      "outputs": []
    },
    {
      "cell_type": "code",
      "metadata": {
        "colab": {
          "base_uri": "https://localhost:8080/"
        },
        "id": "X7eWUWFJD8Q_",
        "outputId": "c6fe8d0c-63e4-474d-92e4-c6b3408c4b10"
      },
      "source": [
        "cross_validate(SVC(gamma='auto'), final_df2_pca,final_df1,scoring=['recall','precision','accuracy'] ,cv=10)"
      ],
      "execution_count": 46,
      "outputs": [
        {
          "output_type": "execute_result",
          "data": {
            "text/plain": [
              "{'fit_time': array([19.1443584 , 19.44939613, 19.10635638, 18.96406555, 19.29466987,\n",
              "        18.92795682, 19.22989631, 19.39203739, 19.64447045, 19.75996137]),\n",
              " 'score_time': array([1.60835457, 1.58420157, 1.58458114, 1.52787161, 1.57352996,\n",
              "        1.52971268, 1.64062262, 1.80136514, 1.70764089, 1.58061337]),\n",
              " 'test_accuracy': array([0.69712071, 0.69712071, 0.68476454, 0.68531856, 0.70470914,\n",
              "        0.69085873, 0.71689751, 0.70304709, 0.70914127, 0.70969529]),\n",
              " 'test_precision': array([0.8514377 , 0.83950617, 0.84124386, 0.85185185, 0.855573  ,\n",
              "        0.84627832, 0.871875  , 0.84853168, 0.86666667, 0.85451761]),\n",
              " 'test_recall': array([0.54002026, 0.55116515, 0.52129817, 0.51318458, 0.55273834,\n",
              "        0.53042596, 0.56534954, 0.556231  , 0.55319149, 0.56534954])}"
            ]
          },
          "metadata": {},
          "execution_count": 46
        }
      ]
    },
    {
      "cell_type": "code",
      "metadata": {
        "id": "H5z7eqMSD8Q_",
        "outputId": "02d478a8-7976-4b7c-a154-5f9ace9de9c5"
      },
      "source": [
        "prec_svm=np.array([0.8141844 , 0.80487805, 0.80367232, 0.80737705, 0.80551724,\n",
        "       0.78726287, 0.82014388, 0.79946164, 0.79892038, 0.7966805])\n",
        "np.average(prec_svm)"
      ],
      "execution_count": null,
      "outputs": [
        {
          "data": {
            "text/plain": [
              "0.8038098330000001"
            ]
          },
          "execution_count": 58,
          "metadata": {},
          "output_type": "execute_result"
        }
      ]
    },
    {
      "cell_type": "code",
      "metadata": {
        "id": "pbVkTyQ_D8Q_"
      },
      "source": [
        "from sklearn.naive_bayes import GaussianNB"
      ],
      "execution_count": 47,
      "outputs": []
    },
    {
      "cell_type": "code",
      "metadata": {
        "colab": {
          "base_uri": "https://localhost:8080/"
        },
        "id": "OKOWcvlAD8Q_",
        "outputId": "cfcf868d-8558-44c7-a783-11758259ad4b"
      },
      "source": [
        "cross_validate(GaussianNB(), final_df2_pca,final_df1,scoring=['recall','precision','accuracy'] ,cv=10)"
      ],
      "execution_count": 48,
      "outputs": [
        {
          "output_type": "execute_result",
          "data": {
            "text/plain": [
              "{'fit_time': array([0.01457739, 0.01168728, 0.01087618, 0.01077127, 0.01118541,\n",
              "        0.0109992 , 0.0110786 , 0.01176357, 0.01161695, 0.0157969 ]),\n",
              " 'score_time': array([0.00775552, 0.00728393, 0.007972  , 0.00731683, 0.00745535,\n",
              "        0.00775313, 0.00768661, 0.00741267, 0.00985456, 0.00742316]),\n",
              " 'test_accuracy': array([0.69712071, 0.696567  , 0.68587258, 0.68365651, 0.70304709,\n",
              "        0.69030471, 0.71357341, 0.70360111, 0.71301939, 0.71357341]),\n",
              " 'test_precision': array([0.82835821, 0.82908546, 0.82380216, 0.82988871, 0.8358209 ,\n",
              "        0.83100775, 0.85074627, 0.83731343, 0.85801527, 0.85074627]),\n",
              " 'test_recall': array([0.56231003, 0.56028369, 0.54056795, 0.52941176, 0.56795132,\n",
              "        0.54361055, 0.5775076 , 0.56838906, 0.56940223, 0.5775076 ])}"
            ]
          },
          "metadata": {},
          "execution_count": 48
        }
      ]
    },
    {
      "cell_type": "code",
      "metadata": {
        "id": "n9iZzQYHIFhp"
      },
      "source": [
        ""
      ],
      "execution_count": null,
      "outputs": []
    },
    {
      "cell_type": "code",
      "metadata": {
        "colab": {
          "base_uri": "https://localhost:8080/"
        },
        "id": "m-iHS9ESIIA1",
        "outputId": "064a593a-e6d1-4436-ec80-117060390778"
      },
      "source": [
        "cross_validate(GaussianNB(), final_df2,final_df1,scoring=['recall','precision','accuracy'] ,cv=10)"
      ],
      "execution_count": 49,
      "outputs": [
        {
          "output_type": "execute_result",
          "data": {
            "text/plain": [
              "{'fit_time': array([3.55941463, 3.55432725, 3.53528285, 3.56405592, 3.53513861,\n",
              "        3.52558112, 3.5646131 , 3.52168107, 3.5029068 , 3.58399463]),\n",
              " 'score_time': array([0.32474947, 0.33273602, 0.33165932, 0.32762837, 0.32590866,\n",
              "        0.32590294, 0.33773017, 0.33488178, 0.32995391, 0.32489324]),\n",
              " 'test_accuracy': array([0.53709856, 0.5448505 , 0.52631579, 0.53573407, 0.52742382,\n",
              "        0.53795014, 0.53628809, 0.53351801, 0.5401662 , 0.54182825]),\n",
              " 'test_precision': array([0.67681499, 0.67590618, 0.64459161, 0.65416667, 0.65079365,\n",
              "        0.67351598, 0.6659292 , 0.65795207, 0.67177243, 0.66326531]),\n",
              " 'test_recall': array([0.29280648, 0.32117528, 0.29614604, 0.31845842, 0.29107505,\n",
              "        0.29918864, 0.30496454, 0.30597771, 0.31104357, 0.32928065])}"
            ]
          },
          "metadata": {},
          "execution_count": 49
        }
      ]
    },
    {
      "cell_type": "code",
      "metadata": {
        "colab": {
          "base_uri": "https://localhost:8080/"
        },
        "id": "BlLnnEF2IF7G",
        "outputId": "698c586e-9dec-4f8e-b448-8dc6b986d178"
      },
      "source": [
        "cross_validate(GaussianNB(), final_df2_pca,final_df1,scoring=['recall','precision','accuracy'] ,cv=10)"
      ],
      "execution_count": 59,
      "outputs": [
        {
          "output_type": "execute_result",
          "data": {
            "text/plain": [
              "{'fit_time': array([0.01070905, 0.00686169, 0.00651431, 0.00704861, 0.00673461,\n",
              "        0.00641537, 0.00619531, 0.00677371, 0.00666618, 0.00632405]),\n",
              " 'score_time': array([0.00718689, 0.0067668 , 0.00670457, 0.00712538, 0.00643611,\n",
              "        0.00676918, 0.00660133, 0.00604033, 0.00639796, 0.00673652]),\n",
              " 'test_accuracy': array([0.68936877, 0.69435216, 0.67645429, 0.67590028, 0.70470914,\n",
              "        0.68587258, 0.70747922, 0.70027701, 0.70415512, 0.70692521]),\n",
              " 'test_precision': array([0.78475936, 0.78807947, 0.78230337, 0.78683834, 0.81155433,\n",
              "        0.78896552, 0.8105548 , 0.79973118, 0.81678322, 0.8102981 ]),\n",
              " 'test_recall': array([0.59473151, 0.60283688, 0.56490872, 0.55780933, 0.59837728,\n",
              "        0.5801217 , 0.60688956, 0.60283688, 0.591692  , 0.60587639])}"
            ]
          },
          "metadata": {},
          "execution_count": 59
        }
      ]
    },
    {
      "cell_type": "code",
      "metadata": {
        "id": "4RseRBxfD8Q_",
        "outputId": "307042e0-bad7-42d4-a866-5f4653cebfa8"
      },
      "source": [
        "#prec_naivebayes=cross_val_score(GaussianNB(), final_df2_pca,final_df1,scoring='precision' ,cv=10)\n",
        "#prec_naivebayes"
      ],
      "execution_count": null,
      "outputs": [
        {
          "data": {
            "text/plain": [
              "array([0.8141844 , 0.80487805, 0.80367232, 0.80737705, 0.80551724,\n",
              "       0.78726287, 0.82014388, 0.79946164, 0.79892038, 0.7966805 ])"
            ]
          },
          "execution_count": 61,
          "metadata": {},
          "output_type": "execute_result"
        }
      ]
    },
    {
      "cell_type": "code",
      "metadata": {
        "id": "z4ebMtWqD8Q_",
        "outputId": "81036781-841e-48be-ac1b-aba456ecdf20"
      },
      "source": [
        "#np.average(prec_naivebayes)"
      ],
      "execution_count": null,
      "outputs": [
        {
          "data": {
            "text/plain": [
              "0.8038098328193224"
            ]
          },
          "execution_count": 62,
          "metadata": {},
          "output_type": "execute_result"
        }
      ]
    },
    {
      "cell_type": "code",
      "metadata": {
        "id": "Ma3Pvf_FD8RA"
      },
      "source": [
        ""
      ],
      "execution_count": null,
      "outputs": []
    }
  ]
}